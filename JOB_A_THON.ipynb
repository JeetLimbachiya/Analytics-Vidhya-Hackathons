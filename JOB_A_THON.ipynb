{
 "cells": [
  {
   "cell_type": "code",
   "execution_count": 107,
   "metadata": {},
   "outputs": [],
   "source": [
    "import pandas as pd\n",
    "import numpy as np\n",
    "import matplotlib.pyplot as plt\n",
    "import seaborn as sns\n",
    "from sklearn.preprocessing import LabelEncoder,MinMaxScaler\n",
    "from sklearn.model_selection import train_test_split\n",
    "from sklearn.ensemble import RandomForestClassifier"
   ]
  },
  {
   "cell_type": "code",
   "execution_count": 2,
   "metadata": {},
   "outputs": [],
   "source": [
    "pd.set_option(\"max_columns\",None)\n",
    "pd.set_option(\"max_rows\",None)"
   ]
  },
  {
   "cell_type": "code",
   "execution_count": 3,
   "metadata": {},
   "outputs": [],
   "source": [
    "train_policy = pd.read_csv(\"(JOB-A-THON)train_Df64byy.csv\")"
   ]
  },
  {
   "cell_type": "code",
   "execution_count": 110,
   "metadata": {},
   "outputs": [],
   "source": [
    "test_policy = pd.read_csv(\"(JOB-A-THON)test_YCcRUnU.csv\")"
   ]
  },
  {
   "cell_type": "code",
   "execution_count": 4,
   "metadata": {},
   "outputs": [
    {
     "data": {
      "text/html": [
       "<div>\n",
       "<style scoped>\n",
       "    .dataframe tbody tr th:only-of-type {\n",
       "        vertical-align: middle;\n",
       "    }\n",
       "\n",
       "    .dataframe tbody tr th {\n",
       "        vertical-align: top;\n",
       "    }\n",
       "\n",
       "    .dataframe thead th {\n",
       "        text-align: right;\n",
       "    }\n",
       "</style>\n",
       "<table border=\"1\" class=\"dataframe\">\n",
       "  <thead>\n",
       "    <tr style=\"text-align: right;\">\n",
       "      <th></th>\n",
       "      <th>ID</th>\n",
       "      <th>City_Code</th>\n",
       "      <th>Region_Code</th>\n",
       "      <th>Accomodation_Type</th>\n",
       "      <th>Reco_Insurance_Type</th>\n",
       "      <th>Upper_Age</th>\n",
       "      <th>Lower_Age</th>\n",
       "      <th>Is_Spouse</th>\n",
       "      <th>Health Indicator</th>\n",
       "      <th>Holding_Policy_Duration</th>\n",
       "      <th>Holding_Policy_Type</th>\n",
       "      <th>Reco_Policy_Cat</th>\n",
       "      <th>Reco_Policy_Premium</th>\n",
       "      <th>Response</th>\n",
       "    </tr>\n",
       "  </thead>\n",
       "  <tbody>\n",
       "    <tr>\n",
       "      <th>0</th>\n",
       "      <td>1</td>\n",
       "      <td>C3</td>\n",
       "      <td>3213</td>\n",
       "      <td>Rented</td>\n",
       "      <td>Individual</td>\n",
       "      <td>36</td>\n",
       "      <td>36</td>\n",
       "      <td>No</td>\n",
       "      <td>X1</td>\n",
       "      <td>14+</td>\n",
       "      <td>3.0</td>\n",
       "      <td>22</td>\n",
       "      <td>11628.0</td>\n",
       "      <td>0</td>\n",
       "    </tr>\n",
       "    <tr>\n",
       "      <th>1</th>\n",
       "      <td>2</td>\n",
       "      <td>C5</td>\n",
       "      <td>1117</td>\n",
       "      <td>Owned</td>\n",
       "      <td>Joint</td>\n",
       "      <td>75</td>\n",
       "      <td>22</td>\n",
       "      <td>No</td>\n",
       "      <td>X2</td>\n",
       "      <td>NaN</td>\n",
       "      <td>NaN</td>\n",
       "      <td>22</td>\n",
       "      <td>30510.0</td>\n",
       "      <td>0</td>\n",
       "    </tr>\n",
       "    <tr>\n",
       "      <th>2</th>\n",
       "      <td>3</td>\n",
       "      <td>C5</td>\n",
       "      <td>3732</td>\n",
       "      <td>Owned</td>\n",
       "      <td>Individual</td>\n",
       "      <td>32</td>\n",
       "      <td>32</td>\n",
       "      <td>No</td>\n",
       "      <td>NaN</td>\n",
       "      <td>1.0</td>\n",
       "      <td>1.0</td>\n",
       "      <td>19</td>\n",
       "      <td>7450.0</td>\n",
       "      <td>1</td>\n",
       "    </tr>\n",
       "    <tr>\n",
       "      <th>3</th>\n",
       "      <td>4</td>\n",
       "      <td>C24</td>\n",
       "      <td>4378</td>\n",
       "      <td>Owned</td>\n",
       "      <td>Joint</td>\n",
       "      <td>52</td>\n",
       "      <td>48</td>\n",
       "      <td>No</td>\n",
       "      <td>X1</td>\n",
       "      <td>14+</td>\n",
       "      <td>3.0</td>\n",
       "      <td>19</td>\n",
       "      <td>17780.0</td>\n",
       "      <td>0</td>\n",
       "    </tr>\n",
       "    <tr>\n",
       "      <th>4</th>\n",
       "      <td>5</td>\n",
       "      <td>C8</td>\n",
       "      <td>2190</td>\n",
       "      <td>Rented</td>\n",
       "      <td>Individual</td>\n",
       "      <td>44</td>\n",
       "      <td>44</td>\n",
       "      <td>No</td>\n",
       "      <td>X2</td>\n",
       "      <td>3.0</td>\n",
       "      <td>1.0</td>\n",
       "      <td>16</td>\n",
       "      <td>10404.0</td>\n",
       "      <td>0</td>\n",
       "    </tr>\n",
       "  </tbody>\n",
       "</table>\n",
       "</div>"
      ],
      "text/plain": [
       "   ID City_Code  Region_Code Accomodation_Type Reco_Insurance_Type  Upper_Age  \\\n",
       "0   1        C3         3213            Rented          Individual         36   \n",
       "1   2        C5         1117             Owned               Joint         75   \n",
       "2   3        C5         3732             Owned          Individual         32   \n",
       "3   4       C24         4378             Owned               Joint         52   \n",
       "4   5        C8         2190            Rented          Individual         44   \n",
       "\n",
       "   Lower_Age Is_Spouse Health Indicator Holding_Policy_Duration  \\\n",
       "0         36        No               X1                     14+   \n",
       "1         22        No               X2                     NaN   \n",
       "2         32        No              NaN                     1.0   \n",
       "3         48        No               X1                     14+   \n",
       "4         44        No               X2                     3.0   \n",
       "\n",
       "   Holding_Policy_Type  Reco_Policy_Cat  Reco_Policy_Premium  Response  \n",
       "0                  3.0               22              11628.0         0  \n",
       "1                  NaN               22              30510.0         0  \n",
       "2                  1.0               19               7450.0         1  \n",
       "3                  3.0               19              17780.0         0  \n",
       "4                  1.0               16              10404.0         0  "
      ]
     },
     "execution_count": 4,
     "metadata": {},
     "output_type": "execute_result"
    }
   ],
   "source": [
    "train_policy.head()"
   ]
  },
  {
   "cell_type": "code",
   "execution_count": 111,
   "metadata": {},
   "outputs": [
    {
     "data": {
      "text/html": [
       "<div>\n",
       "<style scoped>\n",
       "    .dataframe tbody tr th:only-of-type {\n",
       "        vertical-align: middle;\n",
       "    }\n",
       "\n",
       "    .dataframe tbody tr th {\n",
       "        vertical-align: top;\n",
       "    }\n",
       "\n",
       "    .dataframe thead th {\n",
       "        text-align: right;\n",
       "    }\n",
       "</style>\n",
       "<table border=\"1\" class=\"dataframe\">\n",
       "  <thead>\n",
       "    <tr style=\"text-align: right;\">\n",
       "      <th></th>\n",
       "      <th>ID</th>\n",
       "      <th>City_Code</th>\n",
       "      <th>Region_Code</th>\n",
       "      <th>Accomodation_Type</th>\n",
       "      <th>Reco_Insurance_Type</th>\n",
       "      <th>Upper_Age</th>\n",
       "      <th>Lower_Age</th>\n",
       "      <th>Is_Spouse</th>\n",
       "      <th>Health Indicator</th>\n",
       "      <th>Holding_Policy_Duration</th>\n",
       "      <th>Holding_Policy_Type</th>\n",
       "      <th>Reco_Policy_Cat</th>\n",
       "      <th>Reco_Policy_Premium</th>\n",
       "    </tr>\n",
       "  </thead>\n",
       "  <tbody>\n",
       "    <tr>\n",
       "      <th>0</th>\n",
       "      <td>50883</td>\n",
       "      <td>C1</td>\n",
       "      <td>156</td>\n",
       "      <td>Owned</td>\n",
       "      <td>Individual</td>\n",
       "      <td>30</td>\n",
       "      <td>30</td>\n",
       "      <td>No</td>\n",
       "      <td>NaN</td>\n",
       "      <td>6.0</td>\n",
       "      <td>3.0</td>\n",
       "      <td>5</td>\n",
       "      <td>11934.0</td>\n",
       "    </tr>\n",
       "    <tr>\n",
       "      <th>1</th>\n",
       "      <td>50884</td>\n",
       "      <td>C4</td>\n",
       "      <td>7</td>\n",
       "      <td>Owned</td>\n",
       "      <td>Joint</td>\n",
       "      <td>69</td>\n",
       "      <td>68</td>\n",
       "      <td>Yes</td>\n",
       "      <td>X1</td>\n",
       "      <td>3.0</td>\n",
       "      <td>3.0</td>\n",
       "      <td>18</td>\n",
       "      <td>32204.8</td>\n",
       "    </tr>\n",
       "    <tr>\n",
       "      <th>2</th>\n",
       "      <td>50885</td>\n",
       "      <td>C1</td>\n",
       "      <td>564</td>\n",
       "      <td>Rented</td>\n",
       "      <td>Individual</td>\n",
       "      <td>28</td>\n",
       "      <td>28</td>\n",
       "      <td>No</td>\n",
       "      <td>X3</td>\n",
       "      <td>2.0</td>\n",
       "      <td>4.0</td>\n",
       "      <td>17</td>\n",
       "      <td>9240.0</td>\n",
       "    </tr>\n",
       "    <tr>\n",
       "      <th>3</th>\n",
       "      <td>50886</td>\n",
       "      <td>C3</td>\n",
       "      <td>1177</td>\n",
       "      <td>Rented</td>\n",
       "      <td>Individual</td>\n",
       "      <td>23</td>\n",
       "      <td>23</td>\n",
       "      <td>No</td>\n",
       "      <td>X3</td>\n",
       "      <td>3.0</td>\n",
       "      <td>3.0</td>\n",
       "      <td>18</td>\n",
       "      <td>9086.0</td>\n",
       "    </tr>\n",
       "    <tr>\n",
       "      <th>4</th>\n",
       "      <td>50887</td>\n",
       "      <td>C1</td>\n",
       "      <td>951</td>\n",
       "      <td>Owned</td>\n",
       "      <td>Individual</td>\n",
       "      <td>75</td>\n",
       "      <td>75</td>\n",
       "      <td>No</td>\n",
       "      <td>X3</td>\n",
       "      <td>NaN</td>\n",
       "      <td>NaN</td>\n",
       "      <td>5</td>\n",
       "      <td>22534.0</td>\n",
       "    </tr>\n",
       "  </tbody>\n",
       "</table>\n",
       "</div>"
      ],
      "text/plain": [
       "      ID City_Code  Region_Code Accomodation_Type Reco_Insurance_Type  \\\n",
       "0  50883        C1          156             Owned          Individual   \n",
       "1  50884        C4            7             Owned               Joint   \n",
       "2  50885        C1          564            Rented          Individual   \n",
       "3  50886        C3         1177            Rented          Individual   \n",
       "4  50887        C1          951             Owned          Individual   \n",
       "\n",
       "   Upper_Age  Lower_Age Is_Spouse Health Indicator Holding_Policy_Duration  \\\n",
       "0         30         30        No              NaN                     6.0   \n",
       "1         69         68       Yes               X1                     3.0   \n",
       "2         28         28        No               X3                     2.0   \n",
       "3         23         23        No               X3                     3.0   \n",
       "4         75         75        No               X3                     NaN   \n",
       "\n",
       "   Holding_Policy_Type  Reco_Policy_Cat  Reco_Policy_Premium  \n",
       "0                  3.0                5              11934.0  \n",
       "1                  3.0               18              32204.8  \n",
       "2                  4.0               17               9240.0  \n",
       "3                  3.0               18               9086.0  \n",
       "4                  NaN                5              22534.0  "
      ]
     },
     "execution_count": 111,
     "metadata": {},
     "output_type": "execute_result"
    }
   ],
   "source": [
    "test_policy.head()"
   ]
  },
  {
   "cell_type": "code",
   "execution_count": 5,
   "metadata": {},
   "outputs": [
    {
     "data": {
      "text/html": [
       "<div>\n",
       "<style scoped>\n",
       "    .dataframe tbody tr th:only-of-type {\n",
       "        vertical-align: middle;\n",
       "    }\n",
       "\n",
       "    .dataframe tbody tr th {\n",
       "        vertical-align: top;\n",
       "    }\n",
       "\n",
       "    .dataframe thead th {\n",
       "        text-align: right;\n",
       "    }\n",
       "</style>\n",
       "<table border=\"1\" class=\"dataframe\">\n",
       "  <thead>\n",
       "    <tr style=\"text-align: right;\">\n",
       "      <th></th>\n",
       "      <th>ID</th>\n",
       "      <th>Region_Code</th>\n",
       "      <th>Upper_Age</th>\n",
       "      <th>Lower_Age</th>\n",
       "      <th>Holding_Policy_Type</th>\n",
       "      <th>Reco_Policy_Cat</th>\n",
       "      <th>Reco_Policy_Premium</th>\n",
       "      <th>Response</th>\n",
       "    </tr>\n",
       "  </thead>\n",
       "  <tbody>\n",
       "    <tr>\n",
       "      <th>count</th>\n",
       "      <td>50882.000000</td>\n",
       "      <td>50882.000000</td>\n",
       "      <td>50882.000000</td>\n",
       "      <td>50882.000000</td>\n",
       "      <td>30631.000000</td>\n",
       "      <td>50882.000000</td>\n",
       "      <td>50882.000000</td>\n",
       "      <td>50882.000000</td>\n",
       "    </tr>\n",
       "    <tr>\n",
       "      <th>mean</th>\n",
       "      <td>25441.500000</td>\n",
       "      <td>1732.788707</td>\n",
       "      <td>44.856275</td>\n",
       "      <td>42.738866</td>\n",
       "      <td>2.439228</td>\n",
       "      <td>15.115188</td>\n",
       "      <td>14183.950069</td>\n",
       "      <td>0.239947</td>\n",
       "    </tr>\n",
       "    <tr>\n",
       "      <th>std</th>\n",
       "      <td>14688.512535</td>\n",
       "      <td>1424.081652</td>\n",
       "      <td>17.310271</td>\n",
       "      <td>17.319375</td>\n",
       "      <td>1.025923</td>\n",
       "      <td>6.340663</td>\n",
       "      <td>6590.074873</td>\n",
       "      <td>0.427055</td>\n",
       "    </tr>\n",
       "    <tr>\n",
       "      <th>min</th>\n",
       "      <td>1.000000</td>\n",
       "      <td>1.000000</td>\n",
       "      <td>18.000000</td>\n",
       "      <td>16.000000</td>\n",
       "      <td>1.000000</td>\n",
       "      <td>1.000000</td>\n",
       "      <td>2280.000000</td>\n",
       "      <td>0.000000</td>\n",
       "    </tr>\n",
       "    <tr>\n",
       "      <th>25%</th>\n",
       "      <td>12721.250000</td>\n",
       "      <td>523.000000</td>\n",
       "      <td>28.000000</td>\n",
       "      <td>27.000000</td>\n",
       "      <td>1.000000</td>\n",
       "      <td>12.000000</td>\n",
       "      <td>9248.000000</td>\n",
       "      <td>0.000000</td>\n",
       "    </tr>\n",
       "    <tr>\n",
       "      <th>50%</th>\n",
       "      <td>25441.500000</td>\n",
       "      <td>1391.000000</td>\n",
       "      <td>44.000000</td>\n",
       "      <td>40.000000</td>\n",
       "      <td>3.000000</td>\n",
       "      <td>17.000000</td>\n",
       "      <td>13178.000000</td>\n",
       "      <td>0.000000</td>\n",
       "    </tr>\n",
       "    <tr>\n",
       "      <th>75%</th>\n",
       "      <td>38161.750000</td>\n",
       "      <td>2667.000000</td>\n",
       "      <td>59.000000</td>\n",
       "      <td>57.000000</td>\n",
       "      <td>3.000000</td>\n",
       "      <td>20.000000</td>\n",
       "      <td>18096.000000</td>\n",
       "      <td>0.000000</td>\n",
       "    </tr>\n",
       "    <tr>\n",
       "      <th>max</th>\n",
       "      <td>50882.000000</td>\n",
       "      <td>6194.000000</td>\n",
       "      <td>75.000000</td>\n",
       "      <td>75.000000</td>\n",
       "      <td>4.000000</td>\n",
       "      <td>22.000000</td>\n",
       "      <td>43350.400000</td>\n",
       "      <td>1.000000</td>\n",
       "    </tr>\n",
       "  </tbody>\n",
       "</table>\n",
       "</div>"
      ],
      "text/plain": [
       "                 ID   Region_Code     Upper_Age     Lower_Age  \\\n",
       "count  50882.000000  50882.000000  50882.000000  50882.000000   \n",
       "mean   25441.500000   1732.788707     44.856275     42.738866   \n",
       "std    14688.512535   1424.081652     17.310271     17.319375   \n",
       "min        1.000000      1.000000     18.000000     16.000000   \n",
       "25%    12721.250000    523.000000     28.000000     27.000000   \n",
       "50%    25441.500000   1391.000000     44.000000     40.000000   \n",
       "75%    38161.750000   2667.000000     59.000000     57.000000   \n",
       "max    50882.000000   6194.000000     75.000000     75.000000   \n",
       "\n",
       "       Holding_Policy_Type  Reco_Policy_Cat  Reco_Policy_Premium      Response  \n",
       "count         30631.000000     50882.000000         50882.000000  50882.000000  \n",
       "mean              2.439228        15.115188         14183.950069      0.239947  \n",
       "std               1.025923         6.340663          6590.074873      0.427055  \n",
       "min               1.000000         1.000000          2280.000000      0.000000  \n",
       "25%               1.000000        12.000000          9248.000000      0.000000  \n",
       "50%               3.000000        17.000000         13178.000000      0.000000  \n",
       "75%               3.000000        20.000000         18096.000000      0.000000  \n",
       "max               4.000000        22.000000         43350.400000      1.000000  "
      ]
     },
     "execution_count": 5,
     "metadata": {},
     "output_type": "execute_result"
    }
   ],
   "source": [
    "train_policy.describe()"
   ]
  },
  {
   "cell_type": "code",
   "execution_count": 6,
   "metadata": {},
   "outputs": [
    {
     "name": "stdout",
     "output_type": "stream",
     "text": [
      "<class 'pandas.core.frame.DataFrame'>\n",
      "RangeIndex: 50882 entries, 0 to 50881\n",
      "Data columns (total 14 columns):\n",
      " #   Column                   Non-Null Count  Dtype  \n",
      "---  ------                   --------------  -----  \n",
      " 0   ID                       50882 non-null  int64  \n",
      " 1   City_Code                50882 non-null  object \n",
      " 2   Region_Code              50882 non-null  int64  \n",
      " 3   Accomodation_Type        50882 non-null  object \n",
      " 4   Reco_Insurance_Type      50882 non-null  object \n",
      " 5   Upper_Age                50882 non-null  int64  \n",
      " 6   Lower_Age                50882 non-null  int64  \n",
      " 7   Is_Spouse                50882 non-null  object \n",
      " 8   Health Indicator         39191 non-null  object \n",
      " 9   Holding_Policy_Duration  30631 non-null  object \n",
      " 10  Holding_Policy_Type      30631 non-null  float64\n",
      " 11  Reco_Policy_Cat          50882 non-null  int64  \n",
      " 12  Reco_Policy_Premium      50882 non-null  float64\n",
      " 13  Response                 50882 non-null  int64  \n",
      "dtypes: float64(2), int64(6), object(6)\n",
      "memory usage: 5.4+ MB\n"
     ]
    }
   ],
   "source": [
    "train_policy.info()"
   ]
  },
  {
   "cell_type": "code",
   "execution_count": 7,
   "metadata": {
    "scrolled": true
   },
   "outputs": [
    {
     "data": {
      "text/plain": [
       "ID                         50882\n",
       "City_Code                     36\n",
       "Region_Code                 5316\n",
       "Accomodation_Type              2\n",
       "Reco_Insurance_Type            2\n",
       "Upper_Age                     58\n",
       "Lower_Age                     60\n",
       "Is_Spouse                      2\n",
       "Health Indicator               9\n",
       "Holding_Policy_Duration       15\n",
       "Holding_Policy_Type            4\n",
       "Reco_Policy_Cat               22\n",
       "Reco_Policy_Premium         6977\n",
       "Response                       2\n",
       "dtype: int64"
      ]
     },
     "execution_count": 7,
     "metadata": {},
     "output_type": "execute_result"
    }
   ],
   "source": [
    "train_policy.nunique()"
   ]
  },
  {
   "cell_type": "code",
   "execution_count": 8,
   "metadata": {},
   "outputs": [
    {
     "data": {
      "text/plain": [
       "(50882, 14)"
      ]
     },
     "execution_count": 8,
     "metadata": {},
     "output_type": "execute_result"
    }
   ],
   "source": [
    "train_policy.shape"
   ]
  },
  {
   "cell_type": "code",
   "execution_count": 9,
   "metadata": {},
   "outputs": [
    {
     "data": {
      "text/plain": [
       "ID                             0\n",
       "City_Code                      0\n",
       "Region_Code                    0\n",
       "Accomodation_Type              0\n",
       "Reco_Insurance_Type            0\n",
       "Upper_Age                      0\n",
       "Lower_Age                      0\n",
       "Is_Spouse                      0\n",
       "Health Indicator           11691\n",
       "Holding_Policy_Duration    20251\n",
       "Holding_Policy_Type        20251\n",
       "Reco_Policy_Cat                0\n",
       "Reco_Policy_Premium            0\n",
       "Response                       0\n",
       "dtype: int64"
      ]
     },
     "execution_count": 9,
     "metadata": {},
     "output_type": "execute_result"
    }
   ],
   "source": [
    "train_policy.isna().sum()"
   ]
  },
  {
   "cell_type": "code",
   "execution_count": 112,
   "metadata": {},
   "outputs": [
    {
     "data": {
      "text/plain": [
       "ID                            0\n",
       "City_Code                     0\n",
       "Region_Code                   0\n",
       "Accomodation_Type             0\n",
       "Reco_Insurance_Type           0\n",
       "Upper_Age                     0\n",
       "Lower_Age                     0\n",
       "Is_Spouse                     0\n",
       "Health Indicator           5027\n",
       "Holding_Policy_Duration    8603\n",
       "Holding_Policy_Type        8603\n",
       "Reco_Policy_Cat               0\n",
       "Reco_Policy_Premium           0\n",
       "dtype: int64"
      ]
     },
     "execution_count": 112,
     "metadata": {},
     "output_type": "execute_result"
    }
   ],
   "source": [
    "test_policy.isna().sum()"
   ]
  },
  {
   "cell_type": "code",
   "execution_count": 10,
   "metadata": {},
   "outputs": [
    {
     "data": {
      "text/plain": [
       "array(['X1', 'X2', nan, 'X4', 'X3', 'X6', 'X5', 'X8', 'X7', 'X9'],\n",
       "      dtype=object)"
      ]
     },
     "execution_count": 10,
     "metadata": {},
     "output_type": "execute_result"
    }
   ],
   "source": [
    "train_policy['Health Indicator'].unique()"
   ]
  },
  {
   "cell_type": "code",
   "execution_count": 11,
   "metadata": {},
   "outputs": [
    {
     "data": {
      "text/plain": [
       "X1    13010\n",
       "X2    10332\n",
       "X3     6762\n",
       "X4     5743\n",
       "X5     1727\n",
       "X6     1280\n",
       "X7      196\n",
       "X8       78\n",
       "X9       63\n",
       "Name: Health Indicator, dtype: int64"
      ]
     },
     "execution_count": 11,
     "metadata": {},
     "output_type": "execute_result"
    }
   ],
   "source": [
    "train_policy['Health Indicator'].value_counts()"
   ]
  },
  {
   "cell_type": "code",
   "execution_count": 12,
   "metadata": {},
   "outputs": [],
   "source": [
    "train_policy['Health Indicator'].fillna(train_policy['Health Indicator'].mode()[0],inplace=True)"
   ]
  },
  {
   "cell_type": "code",
   "execution_count": 13,
   "metadata": {
    "scrolled": true
   },
   "outputs": [
    {
     "data": {
      "text/plain": [
       "0"
      ]
     },
     "execution_count": 13,
     "metadata": {},
     "output_type": "execute_result"
    }
   ],
   "source": [
    "train_policy['Health Indicator'].isnull().sum()"
   ]
  },
  {
   "cell_type": "code",
   "execution_count": 113,
   "metadata": {},
   "outputs": [],
   "source": [
    "test_policy['Health Indicator'].fillna(test_policy['Health Indicator'].mode()[0],inplace=True)"
   ]
  },
  {
   "cell_type": "code",
   "execution_count": 14,
   "metadata": {},
   "outputs": [
    {
     "data": {
      "text/plain": [
       "array(['14+', nan, '1.0', '3.0', '5.0', '9.0', '14.0', '7.0', '2.0',\n",
       "       '11.0', '10.0', '8.0', '6.0', '4.0', '13.0', '12.0'], dtype=object)"
      ]
     },
     "execution_count": 14,
     "metadata": {},
     "output_type": "execute_result"
    }
   ],
   "source": [
    "train_policy['Holding_Policy_Duration'].unique()"
   ]
  },
  {
   "cell_type": "code",
   "execution_count": 15,
   "metadata": {},
   "outputs": [
    {
     "data": {
      "text/plain": [
       "1.0     4499\n",
       "14+     4335\n",
       "2.0     4260\n",
       "3.0     3586\n",
       "4.0     2771\n",
       "5.0     2362\n",
       "6.0     1894\n",
       "7.0     1645\n",
       "8.0     1316\n",
       "9.0     1114\n",
       "10.0     813\n",
       "11.0     546\n",
       "12.0     513\n",
       "13.0     511\n",
       "14.0     466\n",
       "Name: Holding_Policy_Duration, dtype: int64"
      ]
     },
     "execution_count": 15,
     "metadata": {},
     "output_type": "execute_result"
    }
   ],
   "source": [
    "train_policy['Holding_Policy_Duration'].value_counts()"
   ]
  },
  {
   "cell_type": "code",
   "execution_count": 16,
   "metadata": {},
   "outputs": [
    {
     "data": {
      "text/html": [
       "<div>\n",
       "<style scoped>\n",
       "    .dataframe tbody tr th:only-of-type {\n",
       "        vertical-align: middle;\n",
       "    }\n",
       "\n",
       "    .dataframe tbody tr th {\n",
       "        vertical-align: top;\n",
       "    }\n",
       "\n",
       "    .dataframe thead th {\n",
       "        text-align: right;\n",
       "    }\n",
       "</style>\n",
       "<table border=\"1\" class=\"dataframe\">\n",
       "  <thead>\n",
       "    <tr style=\"text-align: right;\">\n",
       "      <th></th>\n",
       "      <th>ID</th>\n",
       "      <th>City_Code</th>\n",
       "      <th>Region_Code</th>\n",
       "      <th>Accomodation_Type</th>\n",
       "      <th>Reco_Insurance_Type</th>\n",
       "      <th>Upper_Age</th>\n",
       "      <th>Lower_Age</th>\n",
       "      <th>Is_Spouse</th>\n",
       "      <th>Health Indicator</th>\n",
       "      <th>Holding_Policy_Duration</th>\n",
       "      <th>Holding_Policy_Type</th>\n",
       "      <th>Reco_Policy_Cat</th>\n",
       "      <th>Reco_Policy_Premium</th>\n",
       "      <th>Response</th>\n",
       "    </tr>\n",
       "  </thead>\n",
       "  <tbody>\n",
       "    <tr>\n",
       "      <th>0</th>\n",
       "      <td>1</td>\n",
       "      <td>C3</td>\n",
       "      <td>3213</td>\n",
       "      <td>Rented</td>\n",
       "      <td>Individual</td>\n",
       "      <td>36</td>\n",
       "      <td>36</td>\n",
       "      <td>No</td>\n",
       "      <td>X1</td>\n",
       "      <td>14+</td>\n",
       "      <td>3.0</td>\n",
       "      <td>22</td>\n",
       "      <td>11628.0</td>\n",
       "      <td>0</td>\n",
       "    </tr>\n",
       "    <tr>\n",
       "      <th>3</th>\n",
       "      <td>4</td>\n",
       "      <td>C24</td>\n",
       "      <td>4378</td>\n",
       "      <td>Owned</td>\n",
       "      <td>Joint</td>\n",
       "      <td>52</td>\n",
       "      <td>48</td>\n",
       "      <td>No</td>\n",
       "      <td>X1</td>\n",
       "      <td>14+</td>\n",
       "      <td>3.0</td>\n",
       "      <td>19</td>\n",
       "      <td>17780.0</td>\n",
       "      <td>0</td>\n",
       "    </tr>\n",
       "    <tr>\n",
       "      <th>40</th>\n",
       "      <td>41</td>\n",
       "      <td>C2</td>\n",
       "      <td>1036</td>\n",
       "      <td>Owned</td>\n",
       "      <td>Individual</td>\n",
       "      <td>64</td>\n",
       "      <td>64</td>\n",
       "      <td>No</td>\n",
       "      <td>X1</td>\n",
       "      <td>14+</td>\n",
       "      <td>3.0</td>\n",
       "      <td>3</td>\n",
       "      <td>19830.0</td>\n",
       "      <td>0</td>\n",
       "    </tr>\n",
       "    <tr>\n",
       "      <th>47</th>\n",
       "      <td>48</td>\n",
       "      <td>C4</td>\n",
       "      <td>4373</td>\n",
       "      <td>Rented</td>\n",
       "      <td>Individual</td>\n",
       "      <td>71</td>\n",
       "      <td>71</td>\n",
       "      <td>No</td>\n",
       "      <td>X1</td>\n",
       "      <td>14+</td>\n",
       "      <td>3.0</td>\n",
       "      <td>18</td>\n",
       "      <td>15678.0</td>\n",
       "      <td>0</td>\n",
       "    </tr>\n",
       "    <tr>\n",
       "      <th>55</th>\n",
       "      <td>56</td>\n",
       "      <td>C2</td>\n",
       "      <td>1016</td>\n",
       "      <td>Owned</td>\n",
       "      <td>Individual</td>\n",
       "      <td>48</td>\n",
       "      <td>48</td>\n",
       "      <td>No</td>\n",
       "      <td>X1</td>\n",
       "      <td>14+</td>\n",
       "      <td>3.0</td>\n",
       "      <td>21</td>\n",
       "      <td>15180.0</td>\n",
       "      <td>1</td>\n",
       "    </tr>\n",
       "  </tbody>\n",
       "</table>\n",
       "</div>"
      ],
      "text/plain": [
       "    ID City_Code  Region_Code Accomodation_Type Reco_Insurance_Type  \\\n",
       "0    1        C3         3213            Rented          Individual   \n",
       "3    4       C24         4378             Owned               Joint   \n",
       "40  41        C2         1036             Owned          Individual   \n",
       "47  48        C4         4373            Rented          Individual   \n",
       "55  56        C2         1016             Owned          Individual   \n",
       "\n",
       "    Upper_Age  Lower_Age Is_Spouse Health Indicator Holding_Policy_Duration  \\\n",
       "0          36         36        No               X1                     14+   \n",
       "3          52         48        No               X1                     14+   \n",
       "40         64         64        No               X1                     14+   \n",
       "47         71         71        No               X1                     14+   \n",
       "55         48         48        No               X1                     14+   \n",
       "\n",
       "    Holding_Policy_Type  Reco_Policy_Cat  Reco_Policy_Premium  Response  \n",
       "0                   3.0               22              11628.0         0  \n",
       "3                   3.0               19              17780.0         0  \n",
       "40                  3.0                3              19830.0         0  \n",
       "47                  3.0               18              15678.0         0  \n",
       "55                  3.0               21              15180.0         1  "
      ]
     },
     "execution_count": 16,
     "metadata": {},
     "output_type": "execute_result"
    }
   ],
   "source": [
    "train_policy.loc[train_policy['Holding_Policy_Duration']=='14+'].head()"
   ]
  },
  {
   "cell_type": "code",
   "execution_count": 17,
   "metadata": {},
   "outputs": [],
   "source": [
    "train_policy['Holding_Policy_Duration'] = train_policy['Holding_Policy_Duration'].replace('14+','15.0')"
   ]
  },
  {
   "cell_type": "code",
   "execution_count": 116,
   "metadata": {},
   "outputs": [],
   "source": [
    "test_policy['Holding_Policy_Duration'] = test_policy['Holding_Policy_Duration'].replace('14+','15.0')"
   ]
  },
  {
   "cell_type": "code",
   "execution_count": 18,
   "metadata": {},
   "outputs": [],
   "source": [
    "train_policy['Holding_Policy_Duration'].fillna(value=train_policy['Holding_Policy_Duration'].mode()[0],inplace=True)"
   ]
  },
  {
   "cell_type": "code",
   "execution_count": 19,
   "metadata": {},
   "outputs": [
    {
     "data": {
      "text/plain": [
       "0"
      ]
     },
     "execution_count": 19,
     "metadata": {},
     "output_type": "execute_result"
    }
   ],
   "source": [
    "train_policy['Holding_Policy_Duration'].isnull().sum()"
   ]
  },
  {
   "cell_type": "code",
   "execution_count": 20,
   "metadata": {},
   "outputs": [
    {
     "data": {
      "text/plain": [
       "dtype('O')"
      ]
     },
     "execution_count": 20,
     "metadata": {},
     "output_type": "execute_result"
    }
   ],
   "source": [
    "train_policy['Holding_Policy_Duration'].dtype"
   ]
  },
  {
   "cell_type": "code",
   "execution_count": 21,
   "metadata": {},
   "outputs": [],
   "source": [
    "train_policy['Holding_Policy_Duration'] = train_policy['Holding_Policy_Duration'].astype(float)"
   ]
  },
  {
   "cell_type": "code",
   "execution_count": 114,
   "metadata": {},
   "outputs": [],
   "source": [
    "test_policy['Holding_Policy_Duration'].fillna(value=test_policy['Holding_Policy_Duration'].mode()[0],inplace=True)"
   ]
  },
  {
   "cell_type": "code",
   "execution_count": 115,
   "metadata": {},
   "outputs": [
    {
     "data": {
      "text/plain": [
       "array(['6.0', '3.0', '2.0', '14+', '5.0', '1.0', '4.0', '12.0', '11.0',\n",
       "       '7.0', '9.0', '13.0', '8.0', '14.0', '10.0'], dtype=object)"
      ]
     },
     "execution_count": 115,
     "metadata": {},
     "output_type": "execute_result"
    }
   ],
   "source": [
    "test_policy['Holding_Policy_Duration'].unique()"
   ]
  },
  {
   "cell_type": "code",
   "execution_count": 117,
   "metadata": {},
   "outputs": [],
   "source": [
    "test_policy['Holding_Policy_Duration'] = test_policy['Holding_Policy_Duration'].astype(float)"
   ]
  },
  {
   "cell_type": "code",
   "execution_count": 118,
   "metadata": {},
   "outputs": [
    {
     "data": {
      "text/plain": [
       "array([ 6.,  3.,  2., 15.,  5.,  1.,  4., 12., 11.,  7.,  9., 13.,  8.,\n",
       "       14., 10.])"
      ]
     },
     "execution_count": 118,
     "metadata": {},
     "output_type": "execute_result"
    }
   ],
   "source": [
    "test_policy['Holding_Policy_Duration'].unique()"
   ]
  },
  {
   "cell_type": "code",
   "execution_count": 22,
   "metadata": {},
   "outputs": [
    {
     "data": {
      "text/plain": [
       "array([ 3., nan,  1.,  4.,  2.])"
      ]
     },
     "execution_count": 22,
     "metadata": {},
     "output_type": "execute_result"
    }
   ],
   "source": [
    "train_policy['Holding_Policy_Type'].unique()"
   ]
  },
  {
   "cell_type": "code",
   "execution_count": 23,
   "metadata": {},
   "outputs": [
    {
     "data": {
      "text/plain": [
       "3.0    13279\n",
       "1.0     8173\n",
       "2.0     5005\n",
       "4.0     4174\n",
       "Name: Holding_Policy_Type, dtype: int64"
      ]
     },
     "execution_count": 23,
     "metadata": {},
     "output_type": "execute_result"
    }
   ],
   "source": [
    "train_policy['Holding_Policy_Type'].value_counts()"
   ]
  },
  {
   "cell_type": "code",
   "execution_count": 24,
   "metadata": {},
   "outputs": [],
   "source": [
    "train_policy['Holding_Policy_Type'].fillna(value=train_policy['Holding_Policy_Type'].mean(),inplace=True)"
   ]
  },
  {
   "cell_type": "code",
   "execution_count": 25,
   "metadata": {
    "scrolled": true
   },
   "outputs": [
    {
     "data": {
      "text/plain": [
       "0"
      ]
     },
     "execution_count": 25,
     "metadata": {},
     "output_type": "execute_result"
    }
   ],
   "source": [
    "train_policy['Holding_Policy_Type'].isna().sum()"
   ]
  },
  {
   "cell_type": "code",
   "execution_count": 119,
   "metadata": {},
   "outputs": [],
   "source": [
    "test_policy['Holding_Policy_Type'].fillna(value=test_policy['Holding_Policy_Type'].mean(),inplace=True)"
   ]
  },
  {
   "cell_type": "code",
   "execution_count": 26,
   "metadata": {
    "scrolled": false
   },
   "outputs": [
    {
     "data": {
      "text/plain": [
       "ID                         0\n",
       "City_Code                  0\n",
       "Region_Code                0\n",
       "Accomodation_Type          0\n",
       "Reco_Insurance_Type        0\n",
       "Upper_Age                  0\n",
       "Lower_Age                  0\n",
       "Is_Spouse                  0\n",
       "Health Indicator           0\n",
       "Holding_Policy_Duration    0\n",
       "Holding_Policy_Type        0\n",
       "Reco_Policy_Cat            0\n",
       "Reco_Policy_Premium        0\n",
       "Response                   0\n",
       "dtype: int64"
      ]
     },
     "execution_count": 26,
     "metadata": {},
     "output_type": "execute_result"
    }
   ],
   "source": [
    "train_policy.isna().sum()"
   ]
  },
  {
   "cell_type": "code",
   "execution_count": 120,
   "metadata": {},
   "outputs": [
    {
     "data": {
      "text/plain": [
       "ID                         0\n",
       "City_Code                  0\n",
       "Region_Code                0\n",
       "Accomodation_Type          0\n",
       "Reco_Insurance_Type        0\n",
       "Upper_Age                  0\n",
       "Lower_Age                  0\n",
       "Is_Spouse                  0\n",
       "Health Indicator           0\n",
       "Holding_Policy_Duration    0\n",
       "Holding_Policy_Type        0\n",
       "Reco_Policy_Cat            0\n",
       "Reco_Policy_Premium        0\n",
       "dtype: int64"
      ]
     },
     "execution_count": 120,
     "metadata": {},
     "output_type": "execute_result"
    }
   ],
   "source": [
    "test_policy.isna().sum()"
   ]
  },
  {
   "cell_type": "code",
   "execution_count": 33,
   "metadata": {},
   "outputs": [
    {
     "data": {
      "text/plain": [
       "ID                           int64\n",
       "City_Code                   object\n",
       "Region_Code                  int64\n",
       "Accomodation_Type           object\n",
       "Reco_Insurance_Type         object\n",
       "Upper_Age                    int64\n",
       "Lower_Age                    int64\n",
       "Is_Spouse                   object\n",
       "Health Indicator            object\n",
       "Holding_Policy_Duration    float64\n",
       "Holding_Policy_Type        float64\n",
       "Reco_Policy_Cat              int64\n",
       "Reco_Policy_Premium        float64\n",
       "Response                     int64\n",
       "dtype: object"
      ]
     },
     "execution_count": 33,
     "metadata": {},
     "output_type": "execute_result"
    }
   ],
   "source": [
    "train_policy.dtypes"
   ]
  },
  {
   "cell_type": "code",
   "execution_count": 34,
   "metadata": {},
   "outputs": [],
   "source": [
    "Num_col = ['Region_Code','Upper_Age','Lower_Age','Holding_Policy_Duration','Holding_Policy_Type','Reco_Policy_Cat','Reco_Policy_Premium','Response']\n",
    "Cat_col = ['City_Code','Accomodation_Type','Reco_Insurance_Type','Is_Spouse','Health Indicator']"
   ]
  },
  {
   "cell_type": "code",
   "execution_count": 121,
   "metadata": {},
   "outputs": [],
   "source": [
    "test_Num_col = ['Region_Code','Upper_Age','Lower_Age','Holding_Policy_Duration','Holding_Policy_Type','Reco_Policy_Cat','Reco_Policy_Premium']\n",
    "test_Cat_col = ['City_Code','Accomodation_Type','Reco_Insurance_Type','Is_Spouse','Health Indicator']"
   ]
  },
  {
   "cell_type": "code",
   "execution_count": 27,
   "metadata": {},
   "outputs": [
    {
     "data": {
      "text/plain": [
       "array([0, 1], dtype=int64)"
      ]
     },
     "execution_count": 27,
     "metadata": {},
     "output_type": "execute_result"
    }
   ],
   "source": [
    "train_policy['Response'].unique()"
   ]
  },
  {
   "cell_type": "code",
   "execution_count": 28,
   "metadata": {},
   "outputs": [
    {
     "data": {
      "text/plain": [
       "0    38673\n",
       "1    12209\n",
       "Name: Response, dtype: int64"
      ]
     },
     "execution_count": 28,
     "metadata": {},
     "output_type": "execute_result"
    }
   ],
   "source": [
    "train_policy['Response'].value_counts()"
   ]
  },
  {
   "cell_type": "code",
   "execution_count": 31,
   "metadata": {},
   "outputs": [
    {
     "data": {
      "text/plain": [
       "<matplotlib.axes._subplots.AxesSubplot at 0x19678479bb0>"
      ]
     },
     "execution_count": 31,
     "metadata": {},
     "output_type": "execute_result"
    },
    {
     "data": {
      "image/png": "[encoded data removed]",
      "text/plain": [
       "<Figure size 432x288 with 1 Axes>"
      ]
     },
     "metadata": {
      "needs_background": "light"
     },
     "output_type": "display_data"
    }
   ],
   "source": [
    "sns.countplot(train_policy['Response'])"
   ]
  },
  {
   "cell_type": "code",
   "execution_count": 36,
   "metadata": {},
   "outputs": [
    {
     "data": {
      "text/plain": [
       "Upper_Age  Lower_Age\n",
       "18         18            116\n",
       "19         16              1\n",
       "           17              1\n",
       "           18              3\n",
       "           19            510\n",
       "20         18              3\n",
       "           19              8\n",
       "           20            747\n",
       "21         16              1\n",
       "           18              2\n",
       "           19              4\n",
       "           20             15\n",
       "           21           1106\n",
       "22         16              1\n",
       "           18              3\n",
       "           19             13\n",
       "           20             19\n",
       "           21             29\n",
       "           22           1498\n",
       "23         19              5\n",
       "           20             11\n",
       "           21             17\n",
       "           22             35\n",
       "           23           1603\n",
       "24         17              1\n",
       "           18              1\n",
       "           20              7\n",
       "           21             16\n",
       "           22             12\n",
       "           23             44\n",
       "           24           1571\n",
       "25         17              1\n",
       "           18              1\n",
       "           19              1\n",
       "           20              1\n",
       "           21              2\n",
       "           22             12\n",
       "           23             33\n",
       "           24             38\n",
       "           25           1555\n",
       "26         16              1\n",
       "           19              3\n",
       "           20              1\n",
       "           21              8\n",
       "           22              5\n",
       "           23             13\n",
       "           24             23\n",
       "           25             46\n",
       "           26           1361\n",
       "27         16              1\n",
       "           19              4\n",
       "           20              1\n",
       "           21              3\n",
       "           22              6\n",
       "           23              8\n",
       "           24             16\n",
       "           25             30\n",
       "           26             36\n",
       "           27           1141\n",
       "28         20              4\n",
       "           21              2\n",
       "           22              2\n",
       "           23              7\n",
       "           24             12\n",
       "           25             23\n",
       "           26             32\n",
       "           27             38\n",
       "           28           1078\n",
       "29         19              1\n",
       "           20              1\n",
       "           21              1\n",
       "           22              1\n",
       "           23              4\n",
       "           24              7\n",
       "           25              8\n",
       "           26             19\n",
       "           27             25\n",
       "           28             41\n",
       "           29            886\n",
       "30         16              3\n",
       "           17              1\n",
       "           21              2\n",
       "           22              4\n",
       "           23              3\n",
       "           24              5\n",
       "           25              9\n",
       "           26             11\n",
       "           27             28\n",
       "           28             34\n",
       "           29             37\n",
       "           30            838\n",
       "31         16              2\n",
       "           18              1\n",
       "           20              1\n",
       "           21              2\n",
       "           22              3\n",
       "           23              2\n",
       "           24              3\n",
       "           25              7\n",
       "           26             10\n",
       "           27             10\n",
       "           28             29\n",
       "           29             23\n",
       "           30             47\n",
       "           31            756\n",
       "32         16              2\n",
       "           19              1\n",
       "           21              1\n",
       "           22              3\n",
       "           23              5\n",
       "           24              4\n",
       "           25              9\n",
       "           26              4\n",
       "           27             10\n",
       "           28             18\n",
       "           29             17\n",
       "           30             26\n",
       "           31             43\n",
       "           32            768\n",
       "33         16              2\n",
       "           18              1\n",
       "           20              1\n",
       "           21              1\n",
       "           22              4\n",
       "           24              2\n",
       "           25              9\n",
       "           26              5\n",
       "           27              7\n",
       "           28              8\n",
       "           29             18\n",
       "           30             22\n",
       "           31             23\n",
       "           32             33\n",
       "           33            681\n",
       "34         16              4\n",
       "           18              1\n",
       "           21              2\n",
       "           24              1\n",
       "           25              4\n",
       "           26              4\n",
       "           27              8\n",
       "           28             15\n",
       "           29              8\n",
       "           30             14\n",
       "           31             23\n",
       "           32             38\n",
       "           33             40\n",
       "           34            643\n",
       "35         16              7\n",
       "           17              1\n",
       "           18              2\n",
       "           20              1\n",
       "           21              1\n",
       "           23              2\n",
       "           24              3\n",
       "           26              4\n",
       "           27              7\n",
       "           28             13\n",
       "           29              8\n",
       "           30             14\n",
       "           31             14\n",
       "           32             28\n",
       "           33             33\n",
       "           34             38\n",
       "           35            630\n",
       "36         16              3\n",
       "           17              2\n",
       "           18              3\n",
       "           20              1\n",
       "           24              1\n",
       "           25              5\n",
       "           26              3\n",
       "           27              5\n",
       "           28              6\n",
       "           29              4\n",
       "           30              8\n",
       "           31              7\n",
       "           32             15\n",
       "           33             26\n",
       "           34             35\n",
       "           35             32\n",
       "           36            573\n",
       "37         16              8\n",
       "           17              7\n",
       "           18              6\n",
       "           19              2\n",
       "           23              1\n",
       "           25              1\n",
       "           26              1\n",
       "           27              1\n",
       "           28              3\n",
       "           29              4\n",
       "           30              8\n",
       "           31             10\n",
       "           32              7\n",
       "           33             18\n",
       "           34             22\n",
       "           35             33\n",
       "           36             31\n",
       "           37            570\n",
       "38         16              9\n",
       "           17              9\n",
       "           18              5\n",
       "           19              3\n",
       "           20              2\n",
       "           21              1\n",
       "           23              1\n",
       "           26              1\n",
       "           27              3\n",
       "           28              5\n",
       "           29              6\n",
       "           30              4\n",
       "           31              7\n",
       "           32             10\n",
       "           33              9\n",
       "           34             16\n",
       "           35             27\n",
       "           36             17\n",
       "           37             40\n",
       "           38            574\n",
       "39         16              7\n",
       "           17              4\n",
       "           18              9\n",
       "           19              3\n",
       "           20              2\n",
       "           21              2\n",
       "           22              1\n",
       "           23              1\n",
       "           25              2\n",
       "           26              1\n",
       "           27              1\n",
       "           28              1\n",
       "           29              4\n",
       "           30              2\n",
       "           31              9\n",
       "           32              7\n",
       "           33              8\n",
       "           34             10\n",
       "           35             21\n",
       "           36             15\n",
       "           37             33\n",
       "           38             28\n",
       "           39            518\n",
       "40         16             15\n",
       "           17              6\n",
       "           18              6\n",
       "           19              4\n",
       "           21              2\n",
       "           22              3\n",
       "           23              1\n",
       "           24              1\n",
       "           25              1\n",
       "           26              2\n",
       "           27              2\n",
       "           29              6\n",
       "           30              2\n",
       "           31              5\n",
       "           32              4\n",
       "           33             10\n",
       "           34             13\n",
       "           35              9\n",
       "           36             16\n",
       "           37             17\n",
       "           38             29\n",
       "           39             30\n",
       "           40            544\n",
       "41         16             12\n",
       "           17             10\n",
       "           18             13\n",
       "           19             11\n",
       "           20              5\n",
       "           21              5\n",
       "           22              2\n",
       "           23              1\n",
       "           27              1\n",
       "           28              1\n",
       "           29              3\n",
       "           30              3\n",
       "           31              7\n",
       "           32              3\n",
       "           33              5\n",
       "           34              3\n",
       "           35             12\n",
       "           36             10\n",
       "           37              8\n",
       "           38             15\n",
       "           39             26\n",
       "           40             33\n",
       "           41            594\n",
       "42         16             17\n",
       "           17             10\n",
       "           18             10\n",
       "           19              9\n",
       "           20              3\n",
       "           21              5\n",
       "           22              2\n",
       "           23              1\n",
       "           24              2\n",
       "           25              1\n",
       "           26              2\n",
       "           27              1\n",
       "           28              2\n",
       "           29              1\n",
       "           30              2\n",
       "           31              1\n",
       "           32              5\n",
       "           33              8\n",
       "           34             10\n",
       "           35              9\n",
       "           36              8\n",
       "           37             12\n",
       "           38             13\n",
       "           39             18\n",
       "           40             24\n",
       "           41             37\n",
       "           42            610\n",
       "43         16             17\n",
       "           17             12\n",
       "           18             16\n",
       "           19              7\n",
       "           20              8\n",
       "           21              7\n",
       "           22              1\n",
       "           24              1\n",
       "           25              2\n",
       "           26              2\n",
       "           27              2\n",
       "           28              2\n",
       "           30              4\n",
       "           31              4\n",
       "           32              1\n",
       "           33              7\n",
       "           34              4\n",
       "           35              6\n",
       "           36             12\n",
       "           37             12\n",
       "           38             11\n",
       "           39             15\n",
       "           40             18\n",
       "           41             25\n",
       "           42             27\n",
       "           43            610\n",
       "44         16             14\n",
       "           17             12\n",
       "           18              9\n",
       "           19              7\n",
       "           20              4\n",
       "           21              5\n",
       "           22              7\n",
       "           23              4\n",
       "           24              4\n",
       "           25              1\n",
       "           27              2\n",
       "           29              3\n",
       "           30              1\n",
       "           31              2\n",
       "           32              2\n",
       "           33              7\n",
       "           34              3\n",
       "           35              9\n",
       "           36              7\n",
       "           37              6\n",
       "           38             12\n",
       "           39             11\n",
       "           40             14\n",
       "           41              9\n",
       "           42             27\n",
       "           43             27\n",
       "           44            605\n",
       "45         16             17\n",
       "           17              8\n",
       "           18             15\n",
       "           19             12\n",
       "           20              5\n",
       "           21              8\n",
       "           22              6\n",
       "           23              1\n",
       "           24              4\n",
       "           25              4\n",
       "           26              2\n",
       "           29              3\n",
       "           30              1\n",
       "           31              1\n",
       "           32              6\n",
       "           33              1\n",
       "           34              6\n",
       "           35              3\n",
       "           36              6\n",
       "           37              4\n",
       "           38              5\n",
       "           39              7\n",
       "           40             13\n",
       "           41              6\n",
       "           42              8\n",
       "           43             14\n",
       "           44             17\n",
       "           45            608\n",
       "46         16             15\n",
       "           17             16\n",
       "           18              8\n",
       "           19             11\n",
       "           20             10\n",
       "           21              5\n",
       "           22              6\n",
       "           23              4\n",
       "           24              1\n",
       "           25              1\n",
       "           26              1\n",
       "           28              2\n",
       "           29              1\n",
       "           31              3\n",
       "           32              2\n",
       "           33              1\n",
       "           34              1\n",
       "           35              6\n",
       "           36              2\n",
       "           37              1\n",
       "           38              2\n",
       "           39              8\n",
       "           40             10\n",
       "           41             10\n",
       "           42             13\n",
       "           43             15\n",
       "           44             24\n",
       "           45             15\n",
       "           46            616\n",
       "47         16              9\n",
       "           17              7\n",
       "           18             11\n",
       "           19              9\n",
       "           20              6\n",
       "           21              5\n",
       "           22              5\n",
       "           23              6\n",
       "           24              1\n",
       "           25              2\n",
       "           26              1\n",
       "           28              1\n",
       "           31              2\n",
       "           32              1\n",
       "           33              2\n",
       "           35              5\n",
       "           36              1\n",
       "           37              4\n",
       "           38              3\n",
       "           39              4\n",
       "           40              8\n",
       "           41              8\n",
       "           42             11\n",
       "           43             15\n",
       "           44             12\n",
       "           45             19\n",
       "           46             18\n",
       "           47            607\n",
       "48         16             16\n",
       "           17             15\n",
       "           18             13\n",
       "           19             12\n",
       "           20              8\n",
       "           21              6\n",
       "           22              6\n",
       "           23              6\n",
       "           24              4\n",
       "           25              2\n",
       "           26              3\n",
       "           27              1\n",
       "           28              4\n",
       "           31              1\n",
       "           32              3\n",
       "           33              4\n",
       "           34              1\n",
       "           35              4\n",
       "           36              1\n",
       "           37              2\n",
       "           38              4\n",
       "           39              4\n",
       "           40              4\n",
       "           41             13\n",
       "           42              8\n",
       "           43             11\n",
       "           44             13\n",
       "           45             10\n",
       "           46             21\n",
       "           47             28\n",
       "           48            632\n",
       "49         16              7\n",
       "           17              8\n",
       "           18             10\n",
       "           19             11\n",
       "           20             12\n",
       "           21              1\n",
       "           22              6\n",
       "           23              4\n",
       "           24              4\n",
       "           25              4\n",
       "           26              1\n",
       "           27              3\n",
       "           28              2\n",
       "           29              1\n",
       "           33              2\n",
       "           34              1\n",
       "           36              4\n",
       "           38              1\n",
       "           39              8\n",
       "           40              2\n",
       "           41              3\n",
       "           42              4\n",
       "           43              7\n",
       "           44             10\n",
       "           45             10\n",
       "           46             12\n",
       "           47             23\n",
       "           48             24\n",
       "           49            596\n",
       "50         16             10\n",
       "           17              8\n",
       "           18              8\n",
       "           19             10\n",
       "           20             12\n",
       "           21              8\n",
       "           22              5\n",
       "           23              8\n",
       "           24              5\n",
       "           25              4\n",
       "           26              3\n",
       "           27              2\n",
       "           28              2\n",
       "           29              1\n",
       "           30              1\n",
       "           34              3\n",
       "           36              2\n",
       "           37              2\n",
       "           38              1\n",
       "           39              4\n",
       "           40              1\n",
       "           41              1\n",
       "           42              3\n",
       "           43              8\n",
       "           44              4\n",
       "           45             11\n",
       "           46              9\n",
       "           47             18\n",
       "           48             23\n",
       "           49             23\n",
       "           50            597\n",
       "51         16             13\n",
       "           17              9\n",
       "           18              7\n",
       "           19              8\n",
       "           20             13\n",
       "           21              8\n",
       "           22              5\n",
       "           23              7\n",
       "           24              5\n",
       "           25              3\n",
       "           26              4\n",
       "           27              2\n",
       "           28              2\n",
       "           29              1\n",
       "           30              3\n",
       "           33              2\n",
       "           34              1\n",
       "           35              1\n",
       "           37              2\n",
       "           39              2\n",
       "           40              5\n",
       "           41              2\n",
       "           42              3\n",
       "           43              5\n",
       "           44              8\n",
       "           45             11\n",
       "           46             10\n",
       "           47             10\n",
       "           48             20\n",
       "           49             12\n",
       "           50             28\n",
       "           51            592\n",
       "52         16             10\n",
       "           17             13\n",
       "           18             10\n",
       "           19              4\n",
       "           20              4\n",
       "           21              9\n",
       "           22             10\n",
       "           23              5\n",
       "           24              7\n",
       "           25              2\n",
       "           26              3\n",
       "           27              1\n",
       "           28              2\n",
       "           29              4\n",
       "           30              1\n",
       "           31              2\n",
       "           33              4\n",
       "           35              1\n",
       "           37              2\n",
       "           39              2\n",
       "           40              3\n",
       "           41              2\n",
       "           42              3\n",
       "           43              8\n",
       "           44              6\n",
       "           45              8\n",
       "           46              9\n",
       "           47              7\n",
       "           48             15\n",
       "           49             16\n",
       "           50             26\n",
       "           51             22\n",
       "           52            660\n",
       "53         16              9\n",
       "           17              9\n",
       "           18              4\n",
       "           19             13\n",
       "           20              8\n",
       "           21              5\n",
       "           22              5\n",
       "           23              4\n",
       "           24              5\n",
       "           25              4\n",
       "           26              4\n",
       "           27              3\n",
       "           28              2\n",
       "           29              2\n",
       "           30              2\n",
       "           31              3\n",
       "           32              1\n",
       "           34              3\n",
       "           35              2\n",
       "           36              1\n",
       "           37              2\n",
       "           38              2\n",
       "           39              2\n",
       "           40              3\n",
       "           42              4\n",
       "           43              3\n",
       "           44              3\n",
       "           45              5\n",
       "           46             10\n",
       "           47              6\n",
       "           48              9\n",
       "           49             10\n",
       "           50             15\n",
       "           51             24\n",
       "           52             16\n",
       "           53            606\n",
       "54         16              5\n",
       "           17              4\n",
       "           18             11\n",
       "           19              9\n",
       "           20              8\n",
       "           21              7\n",
       "           22              5\n",
       "           23             11\n",
       "           24              4\n",
       "           25              2\n",
       "           26              4\n",
       "           27              4\n",
       "           28              3\n",
       "           29              2\n",
       "           30              1\n",
       "           31              1\n",
       "           33              2\n",
       "           34              2\n",
       "           35              1\n",
       "           36              3\n",
       "           37              3\n",
       "           38              2\n",
       "           39              2\n",
       "           41              1\n",
       "           42              3\n",
       "           43              2\n",
       "           44              3\n",
       "           45              4\n",
       "           46             10\n",
       "           47              6\n",
       "           48             10\n",
       "           49              5\n",
       "           50             15\n",
       "           51             26\n",
       "           52             28\n",
       "           53             25\n",
       "           54            591\n",
       "55         16              9\n",
       "           17              2\n",
       "           18              7\n",
       "           19              8\n",
       "           20             15\n",
       "           21              8\n",
       "           22              4\n",
       "           23              2\n",
       "           24              4\n",
       "           25              5\n",
       "           26              4\n",
       "           27              2\n",
       "           29              6\n",
       "           30              4\n",
       "           32              1\n",
       "           33              1\n",
       "           35              1\n",
       "           36              2\n",
       "           37              1\n",
       "           40              3\n",
       "           41              1\n",
       "           42              3\n",
       "           43              4\n",
       "           44              7\n",
       "           46              3\n",
       "           47              4\n",
       "           48              5\n",
       "           49             12\n",
       "           50             11\n",
       "           51             20\n",
       "           52             15\n",
       "           53             26\n",
       "           54             25\n",
       "           55            653\n",
       "56         16              4\n",
       "           17              4\n",
       "           18              3\n",
       "           19              9\n",
       "           20              4\n",
       "           21              5\n",
       "           22             10\n",
       "           23              8\n",
       "           24              8\n",
       "           25              1\n",
       "           26              6\n",
       "           27              3\n",
       "           28              2\n",
       "           29              3\n",
       "           30              3\n",
       "           31              3\n",
       "           32              4\n",
       "           35              4\n",
       "           39              1\n",
       "           40              1\n",
       "           41              2\n",
       "           43              2\n",
       "           44              3\n",
       "           45              4\n",
       "           46              3\n",
       "           47              6\n",
       "           48              5\n",
       "           49              5\n",
       "           50              8\n",
       "           51             14\n",
       "           52             14\n",
       "           53             22\n",
       "           54             14\n",
       "           55             32\n",
       "           56            596\n",
       "57         16              2\n",
       "           17              4\n",
       "           18              6\n",
       "           19              6\n",
       "           20              4\n",
       "           21             10\n",
       "           22              6\n",
       "           23              5\n",
       "           24              3\n",
       "           25              4\n",
       "           26              3\n",
       "           27              5\n",
       "           28              1\n",
       "           29              1\n",
       "           30              2\n",
       "           31              1\n",
       "           34              1\n",
       "           35              1\n",
       "           36              1\n",
       "           37              2\n",
       "           38              1\n",
       "           40              3\n",
       "           41              1\n",
       "           42              2\n",
       "           44              2\n",
       "           45              2\n",
       "           46              4\n",
       "           47              5\n",
       "           48              5\n",
       "           49              5\n",
       "           50             14\n",
       "           51              6\n",
       "           52              8\n",
       "           53             10\n",
       "           54             19\n",
       "           55             23\n",
       "           56             27\n",
       "           57            587\n",
       "58         16              5\n",
       "           17              4\n",
       "           18              5\n",
       "           19              4\n",
       "           20              8\n",
       "           21              9\n",
       "           22              6\n",
       "           23              6\n",
       "           24              4\n",
       "           25              5\n",
       "           26              8\n",
       "           27              2\n",
       "           28              4\n",
       "           30              2\n",
       "           31              1\n",
       "           34              2\n",
       "           35              4\n",
       "           36              1\n",
       "           37              1\n",
       "           38              2\n",
       "           39              1\n",
       "           40              3\n",
       "           43              1\n",
       "           44              3\n",
       "           45              3\n",
       "           46              2\n",
       "           47              1\n",
       "           48              6\n",
       "           49              5\n",
       "           50              5\n",
       "           51              3\n",
       "           52             12\n",
       "           53             14\n",
       "           54             12\n",
       "           55             20\n",
       "           56             21\n",
       "           57             26\n",
       "           58            585\n",
       "59         16              5\n",
       "           17              3\n",
       "           18              1\n",
       "           19              5\n",
       "           20              5\n",
       "           21              5\n",
       "           22              7\n",
       "           23              5\n",
       "           24              6\n",
       "           25              4\n",
       "           26              4\n",
       "           27              4\n",
       "           28              1\n",
       "           29              1\n",
       "           31              2\n",
       "           32              1\n",
       "           33              2\n",
       "           35              3\n",
       "           36              1\n",
       "           37              3\n",
       "           38              1\n",
       "           39              2\n",
       "           45              1\n",
       "           46              1\n",
       "           47              3\n",
       "           48              6\n",
       "           49              8\n",
       "           50              4\n",
       "           52             12\n",
       "           53              7\n",
       "           54              8\n",
       "           55             23\n",
       "           56             18\n",
       "           57             23\n",
       "           58             33\n",
       "           59            549\n",
       "60         16              2\n",
       "           17              3\n",
       "           18              2\n",
       "           19              2\n",
       "           20              2\n",
       "           21              3\n",
       "           22              3\n",
       "           23              2\n",
       "           24              1\n",
       "           25              3\n",
       "           26              2\n",
       "           27              2\n",
       "           28              3\n",
       "           29              6\n",
       "           30              1\n",
       "           31              3\n",
       "           34              3\n",
       "           36              2\n",
       "           37              1\n",
       "           38              1\n",
       "           39              2\n",
       "           40              2\n",
       "           41              1\n",
       "           42              1\n",
       "           43              2\n",
       "           44              2\n",
       "           45              1\n",
       "           46              2\n",
       "           47              3\n",
       "           48              3\n",
       "           49              3\n",
       "           50              5\n",
       "           51              9\n",
       "           52              9\n",
       "           53              9\n",
       "           54              7\n",
       "           55             18\n",
       "           56             11\n",
       "           57             27\n",
       "           58             28\n",
       "           59             33\n",
       "           60            536\n",
       "61         16              1\n",
       "           17              1\n",
       "           18              1\n",
       "           19              3\n",
       "           20              5\n",
       "           21              3\n",
       "           22              7\n",
       "           23              8\n",
       "           24              4\n",
       "           25              3\n",
       "           26              1\n",
       "           27              1\n",
       "           28              5\n",
       "           29              3\n",
       "           30              2\n",
       "           31              2\n",
       "           32              2\n",
       "           33              1\n",
       "           34              3\n",
       "           35              1\n",
       "           36              2\n",
       "           37              4\n",
       "           38              3\n",
       "           39              1\n",
       "           41              3\n",
       "           42              2\n",
       "           43              5\n",
       "           46              1\n",
       "           47              1\n",
       "           48              3\n",
       "           49              5\n",
       "           50              3\n",
       "           51              2\n",
       "           52              5\n",
       "           53              4\n",
       "           54              8\n",
       "           55             11\n",
       "           56             13\n",
       "           57             15\n",
       "           58             21\n",
       "           59             24\n",
       "           60             37\n",
       "           61            538\n",
       "62         16              2\n",
       "           17              1\n",
       "           19              4\n",
       "           20              4\n",
       "           21              1\n",
       "           22              1\n",
       "           23              2\n",
       "           24              2\n",
       "           25              2\n",
       "           26              4\n",
       "           27              3\n",
       "           28              2\n",
       "           29              5\n",
       "           30              2\n",
       "           31              1\n",
       "           32              1\n",
       "           33              3\n",
       "           34              2\n",
       "           35              1\n",
       "           36              1\n",
       "           40              1\n",
       "           43              1\n",
       "           45              1\n",
       "           46              1\n",
       "           47              1\n",
       "           49              4\n",
       "           50              1\n",
       "           51              5\n",
       "           52              7\n",
       "           53              4\n",
       "           54              4\n",
       "           55             11\n",
       "           56             16\n",
       "           57              3\n",
       "           58             13\n",
       "           59             17\n",
       "           60             25\n",
       "           61             37\n",
       "           62            527\n",
       "63         17              2\n",
       "           18              1\n",
       "           19              2\n",
       "           20              2\n",
       "           21              3\n",
       "           22              3\n",
       "           23              1\n",
       "           24              2\n",
       "           25              1\n",
       "           26              4\n",
       "           27              4\n",
       "           28              3\n",
       "           31              3\n",
       "           32              2\n",
       "           33              1\n",
       "           34              1\n",
       "           35              1\n",
       "           37              1\n",
       "           38              1\n",
       "           40              2\n",
       "           42              1\n",
       "           43              4\n",
       "           46              1\n",
       "           48              1\n",
       "           50              6\n",
       "           51              5\n",
       "           52              3\n",
       "           53              4\n",
       "           54              6\n",
       "           55              9\n",
       "           56              8\n",
       "           57             17\n",
       "           58             16\n",
       "           59             15\n",
       "           60             29\n",
       "           61             24\n",
       "           62             31\n",
       "           63            524\n",
       "64         16              3\n",
       "           18              2\n",
       "           19              2\n",
       "           20              2\n",
       "           21              1\n",
       "           22              1\n",
       "           24              1\n",
       "           25              3\n",
       "           26              1\n",
       "           27              2\n",
       "           28              2\n",
       "           29              1\n",
       "           30              1\n",
       "           31              2\n",
       "           32              4\n",
       "           33              1\n",
       "           35              4\n",
       "           36              2\n",
       "           37              2\n",
       "           38              3\n",
       "           39              1\n",
       "           40              1\n",
       "           41              1\n",
       "           42              2\n",
       "           43              1\n",
       "           44              1\n",
       "           48              2\n",
       "           49              2\n",
       "           50              1\n",
       "           51              4\n",
       "           52              2\n",
       "           53              3\n",
       "           54              4\n",
       "           55             10\n",
       "           56              8\n",
       "           57              5\n",
       "           58             12\n",
       "           59             11\n",
       "           60             20\n",
       "           61             22\n",
       "           62             31\n",
       "           63             40\n",
       "           64            488\n",
       "65         16              1\n",
       "           17              2\n",
       "           18              1\n",
       "           19              2\n",
       "           21              2\n",
       "           22              1\n",
       "           23              2\n",
       "           24              1\n",
       "           26              2\n",
       "           27              1\n",
       "           29              2\n",
       "           30              2\n",
       "           31              1\n",
       "           32              2\n",
       "           33              4\n",
       "           34              1\n",
       "           35              3\n",
       "           37              1\n",
       "           38              2\n",
       "           39              1\n",
       "           40              2\n",
       "           41              2\n",
       "           42              2\n",
       "           43              2\n",
       "           45              1\n",
       "           47              1\n",
       "           48              2\n",
       "           50              1\n",
       "           51              4\n",
       "           52              6\n",
       "           53              2\n",
       "           54              2\n",
       "           55              5\n",
       "           56              6\n",
       "           57              4\n",
       "           58             10\n",
       "           59              8\n",
       "           60             19\n",
       "           61             20\n",
       "           62             27\n",
       "           63             27\n",
       "           64             39\n",
       "           65            530\n",
       "66         16              3\n",
       "           17              2\n",
       "           18              1\n",
       "           20              3\n",
       "           22              3\n",
       "           23              1\n",
       "           26              1\n",
       "           27              3\n",
       "           29              3\n",
       "           30              2\n",
       "           32              2\n",
       "           33              2\n",
       "           34              1\n",
       "           35              1\n",
       "           36              1\n",
       "           37              2\n",
       "           38              1\n",
       "           39              1\n",
       "           40              2\n",
       "           41              3\n",
       "           42              1\n",
       "           45              3\n",
       "           49              2\n",
       "           50              2\n",
       "           52              6\n",
       "           53              2\n",
       "           54              2\n",
       "           55              5\n",
       "           56              2\n",
       "           57              6\n",
       "           58              7\n",
       "           59              7\n",
       "           60             16\n",
       "           61             10\n",
       "           62             24\n",
       "           63             25\n",
       "           64             35\n",
       "           65             39\n",
       "           66            519\n",
       "67         18              2\n",
       "           19              2\n",
       "           20              4\n",
       "           22              3\n",
       "           23              1\n",
       "           25              2\n",
       "           26              1\n",
       "           27              1\n",
       "           28              1\n",
       "           29              1\n",
       "           33              1\n",
       "           35              2\n",
       "           36              2\n",
       "           37              1\n",
       "           38              4\n",
       "           40              1\n",
       "           41              2\n",
       "           42              3\n",
       "           44              1\n",
       "           47              4\n",
       "           48              1\n",
       "           49              2\n",
       "           50              1\n",
       "           51              1\n",
       "           52              1\n",
       "           53              1\n",
       "           54              3\n",
       "           55              2\n",
       "           56              7\n",
       "           57              6\n",
       "           58              4\n",
       "           59              2\n",
       "           60              5\n",
       "           61              9\n",
       "           62             25\n",
       "           63             13\n",
       "           64             18\n",
       "           65             34\n",
       "           66             34\n",
       "           67            406\n",
       "68         16              2\n",
       "           17              1\n",
       "           18              1\n",
       "           19              1\n",
       "           20              1\n",
       "           22              1\n",
       "           25              2\n",
       "           26              1\n",
       "           28              1\n",
       "           30              2\n",
       "           31              1\n",
       "           33              1\n",
       "           34              1\n",
       "           35              2\n",
       "           36              1\n",
       "           37              1\n",
       "           38              1\n",
       "           39              3\n",
       "           40              1\n",
       "           41              3\n",
       "           42              1\n",
       "           43              3\n",
       "           44              2\n",
       "           45              2\n",
       "           46              2\n",
       "           48              2\n",
       "           51              1\n",
       "           53              2\n",
       "           54              2\n",
       "           55              2\n",
       "           56              4\n",
       "           57              4\n",
       "           58              3\n",
       "           59              6\n",
       "           60              3\n",
       "           61              6\n",
       "           62             13\n",
       "           63              9\n",
       "           64              9\n",
       "           65             20\n",
       "           66             28\n",
       "           67             17\n",
       "           68            376\n",
       "69         16              2\n",
       "           18              1\n",
       "           19              4\n",
       "           21              1\n",
       "           22              2\n",
       "           23              2\n",
       "           27              1\n",
       "           30              1\n",
       "           33              1\n",
       "           34              1\n",
       "           36              1\n",
       "           37              1\n",
       "           38              2\n",
       "           39              1\n",
       "           41              1\n",
       "           42              1\n",
       "           43              1\n",
       "           46              1\n",
       "           47              2\n",
       "           48              1\n",
       "           51              2\n",
       "           54              3\n",
       "           55              3\n",
       "           56              5\n",
       "           57              4\n",
       "           58              8\n",
       "           59              4\n",
       "           60              2\n",
       "           61              6\n",
       "           62              8\n",
       "           63             11\n",
       "           64              8\n",
       "           65             26\n",
       "           66             39\n",
       "           67             18\n",
       "           68             27\n",
       "           69            395\n",
       "70         17              1\n",
       "           18              2\n",
       "           21              1\n",
       "           22              2\n",
       "           23              1\n",
       "           24              3\n",
       "           25              2\n",
       "           29              2\n",
       "           33              1\n",
       "           36              2\n",
       "           37              1\n",
       "           40              1\n",
       "           41              1\n",
       "           42              2\n",
       "           44              3\n",
       "           45              5\n",
       "           46              4\n",
       "           49              1\n",
       "           50              2\n",
       "           51              4\n",
       "           52              1\n",
       "           53              2\n",
       "           55              2\n",
       "           56              3\n",
       "           57              4\n",
       "           58              5\n",
       "           59              3\n",
       "           60              6\n",
       "           61              4\n",
       "           62             15\n",
       "           63              9\n",
       "           64             14\n",
       "           65             23\n",
       "           66             22\n",
       "           67             17\n",
       "           68             24\n",
       "           69             39\n",
       "           70            432\n",
       "71         16              1\n",
       "           18              4\n",
       "           20              1\n",
       "           21              1\n",
       "           22              2\n",
       "           23              1\n",
       "           24              1\n",
       "           26              2\n",
       "           33              2\n",
       "           37              1\n",
       "           38              1\n",
       "           39              1\n",
       "           40              1\n",
       "           42              1\n",
       "           43              2\n",
       "           44              2\n",
       "           45              1\n",
       "           47              2\n",
       "           48              1\n",
       "           49              3\n",
       "           50              3\n",
       "           51              3\n",
       "           52              2\n",
       "           53              2\n",
       "           54              2\n",
       "           55              3\n",
       "           56              1\n",
       "           57              1\n",
       "           58              3\n",
       "           59              3\n",
       "           60              4\n",
       "           61              1\n",
       "           62              5\n",
       "           63              2\n",
       "           64             13\n",
       "           65             12\n",
       "           66             10\n",
       "           67             14\n",
       "           68             17\n",
       "           69             21\n",
       "           70             34\n",
       "           71            389\n",
       "72         18              1\n",
       "           19              1\n",
       "           20              1\n",
       "           21              2\n",
       "           26              1\n",
       "           31              1\n",
       "           33              1\n",
       "           34              1\n",
       "           35              1\n",
       "           38              1\n",
       "           43              2\n",
       "           44              4\n",
       "           45              1\n",
       "           46              3\n",
       "           47              1\n",
       "           48              1\n",
       "           49              2\n",
       "           50              1\n",
       "           52              2\n",
       "           53              1\n",
       "           54              2\n",
       "           55              4\n",
       "           56              1\n",
       "           57              2\n",
       "           58              2\n",
       "           59              2\n",
       "           60              3\n",
       "           61              3\n",
       "           62              7\n",
       "           63              3\n",
       "           64              9\n",
       "           65             11\n",
       "           66             14\n",
       "           67              9\n",
       "           68             19\n",
       "           69             25\n",
       "           70             21\n",
       "           71             35\n",
       "           72            311\n",
       "73         17              1\n",
       "           18              2\n",
       "           21              1\n",
       "           23              1\n",
       "           24              1\n",
       "           25              2\n",
       "           28              2\n",
       "           33              1\n",
       "           38              1\n",
       "           40              1\n",
       "           41              1\n",
       "           43              2\n",
       "           45              3\n",
       "           46              1\n",
       "           47              2\n",
       "           48              2\n",
       "           49              1\n",
       "           50              3\n",
       "           51              6\n",
       "           53              1\n",
       "           55              2\n",
       "           56              1\n",
       "           57              4\n",
       "           58              3\n",
       "           60              1\n",
       "           61              4\n",
       "           62              4\n",
       "           63              1\n",
       "           64              6\n",
       "           65              7\n",
       "           66             11\n",
       "           67             11\n",
       "           68              9\n",
       "           69             21\n",
       "           70             15\n",
       "           71             28\n",
       "           72             24\n",
       "           73            305\n",
       "74         16              2\n",
       "           18              2\n",
       "           19              1\n",
       "           22              1\n",
       "           27              1\n",
       "           32              1\n",
       "           41              1\n",
       "           42              1\n",
       "           44              2\n",
       "           45              1\n",
       "           48              1\n",
       "           49              2\n",
       "           50              1\n",
       "           51              2\n",
       "           52              1\n",
       "           54              1\n",
       "           55              1\n",
       "           56              1\n",
       "           60              2\n",
       "           61              2\n",
       "           62              3\n",
       "           64              7\n",
       "           65              6\n",
       "           66              7\n",
       "           67              7\n",
       "           68              2\n",
       "           69             14\n",
       "           70             15\n",
       "           71             25\n",
       "           72             17\n",
       "           73             30\n",
       "           74            286\n",
       "75         16              1\n",
       "           17              1\n",
       "           18              6\n",
       "           19              2\n",
       "           20              3\n",
       "           21              3\n",
       "           22              4\n",
       "           23              2\n",
       "           25              3\n",
       "           26              2\n",
       "           28              7\n",
       "           29              3\n",
       "           30              3\n",
       "           31              3\n",
       "           32              4\n",
       "           33              3\n",
       "           34              3\n",
       "           35              3\n",
       "           36              1\n",
       "           37              2\n",
       "           38              2\n",
       "           39              2\n",
       "           40              5\n",
       "           41              3\n",
       "           42              6\n",
       "           43              5\n",
       "           44              2\n",
       "           45              4\n",
       "           46              7\n",
       "           47              3\n",
       "           48              4\n",
       "           49              3\n",
       "           50              4\n",
       "           51              5\n",
       "           52              9\n",
       "           53              9\n",
       "           54              6\n",
       "           55              6\n",
       "           56             10\n",
       "           57              8\n",
       "           58              6\n",
       "           59              6\n",
       "           60             11\n",
       "           61             14\n",
       "           62             12\n",
       "           63             11\n",
       "           64             18\n",
       "           65             25\n",
       "           66             24\n",
       "           67             21\n",
       "           68             40\n",
       "           69             25\n",
       "           70             70\n",
       "           71             51\n",
       "           72             68\n",
       "           73             96\n",
       "           74            109\n",
       "           75           2213\n",
       "dtype: int64"
      ]
     },
     "execution_count": 36,
     "metadata": {},
     "output_type": "execute_result"
    }
   ],
   "source": [
    "train_policy.groupby(['Upper_Age','Lower_Age']).size()"
   ]
  },
  {
   "cell_type": "code",
   "execution_count": 37,
   "metadata": {},
   "outputs": [
    {
     "data": {
      "text/plain": [
       "<matplotlib.axes._subplots.AxesSubplot at 0x19679116b50>"
      ]
     },
     "execution_count": 37,
     "metadata": {},
     "output_type": "execute_result"
    },
    {
     "data": {
      "image/png": "[encoded data removed]",
      "text/plain": [
       "<Figure size 432x288 with 1 Axes>"
      ]
     },
     "metadata": {
      "needs_background": "light"
     },
     "output_type": "display_data"
    }
   ],
   "source": [
    "sns.distplot(train_policy['Upper_Age'])"
   ]
  },
  {
   "cell_type": "code",
   "execution_count": 38,
   "metadata": {},
   "outputs": [
    {
     "data": {
      "text/plain": [
       "<matplotlib.axes._subplots.AxesSubplot at 0x19679156460>"
      ]
     },
     "execution_count": 38,
     "metadata": {},
     "output_type": "execute_result"
    },
    {
     "data": {
      "image/png": "[encoded data removed]",
      "text/plain": [
       "<Figure size 432x288 with 1 Axes>"
      ]
     },
     "metadata": {
      "needs_background": "light"
     },
     "output_type": "display_data"
    }
   ],
   "source": [
    "sns.boxplot(train_policy['Upper_Age'])"
   ]
  },
  {
   "cell_type": "code",
   "execution_count": 39,
   "metadata": {},
   "outputs": [
    {
     "data": {
      "text/plain": [
       "<matplotlib.axes._subplots.AxesSubplot at 0x1967900b4c0>"
      ]
     },
     "execution_count": 39,
     "metadata": {},
     "output_type": "execute_result"
    },
    {
     "data": {
      "image/png": "[encoded data removed]",
      "text/plain": [
       "<Figure size 432x288 with 1 Axes>"
      ]
     },
     "metadata": {
      "needs_background": "light"
     },
     "output_type": "display_data"
    }
   ],
   "source": [
    "sns.distplot(train_policy['Lower_Age'])"
   ]
  },
  {
   "cell_type": "code",
   "execution_count": 40,
   "metadata": {},
   "outputs": [
    {
     "data": {
      "text/plain": [
       "<matplotlib.axes._subplots.AxesSubplot at 0x1967926bd30>"
      ]
     },
     "execution_count": 40,
     "metadata": {},
     "output_type": "execute_result"
    },
    {
     "data": {
      "image/png": "[encoded data removed]",
      "text/plain": [
       "<Figure size 432x288 with 1 Axes>"
      ]
     },
     "metadata": {
      "needs_background": "light"
     },
     "output_type": "display_data"
    }
   ],
   "source": [
    "sns.boxplot(train_policy['Lower_Age'])"
   ]
  },
  {
   "cell_type": "code",
   "execution_count": 41,
   "metadata": {},
   "outputs": [
    {
     "data": {
      "text/plain": [
       "<matplotlib.axes._subplots.AxesSubplot at 0x19676637cd0>"
      ]
     },
     "execution_count": 41,
     "metadata": {},
     "output_type": "execute_result"
    },
    {
     "data": {
      "image/png": "[encoded data removed]",
      "text/plain": [
       "<Figure size 432x288 with 1 Axes>"
      ]
     },
     "metadata": {
      "needs_background": "light"
     },
     "output_type": "display_data"
    }
   ],
   "source": [
    "sns.scatterplot(train_policy['Upper_Age'],train_policy['Region_Code'],data=train_policy)"
   ]
  },
  {
   "cell_type": "code",
   "execution_count": 42,
   "metadata": {},
   "outputs": [
    {
     "data": {
      "text/plain": [
       "<matplotlib.axes._subplots.AxesSubplot at 0x196763fa730>"
      ]
     },
     "execution_count": 42,
     "metadata": {},
     "output_type": "execute_result"
    },
    {
     "data": {
      "image/png": "[encoded data removed]",
      "text/plain": [
       "<Figure size 432x288 with 1 Axes>"
      ]
     },
     "metadata": {
      "needs_background": "light"
     },
     "output_type": "display_data"
    }
   ],
   "source": [
    "sns.scatterplot(train_policy['Lower_Age'],train_policy['Region_Code'],data=train_policy)"
   ]
  },
  {
   "cell_type": "code",
   "execution_count": 43,
   "metadata": {},
   "outputs": [
    {
     "data": {
      "text/plain": [
       "array([3.        , 2.43922823, 1.        , 4.        , 2.        ])"
      ]
     },
     "execution_count": 43,
     "metadata": {},
     "output_type": "execute_result"
    }
   ],
   "source": [
    "train_policy['Holding_Policy_Type'].unique()"
   ]
  },
  {
   "cell_type": "code",
   "execution_count": 44,
   "metadata": {},
   "outputs": [],
   "source": [
    "train_policy['Holding_Policy_Type'] = train_policy['Holding_Policy_Type'].astype(int)"
   ]
  },
  {
   "cell_type": "code",
   "execution_count": 45,
   "metadata": {},
   "outputs": [
    {
     "data": {
      "text/plain": [
       "0    3\n",
       "1    2\n",
       "2    1\n",
       "3    3\n",
       "4    1\n",
       "Name: Holding_Policy_Type, dtype: int32"
      ]
     },
     "execution_count": 45,
     "metadata": {},
     "output_type": "execute_result"
    }
   ],
   "source": [
    "train_policy['Holding_Policy_Type'].head()"
   ]
  },
  {
   "cell_type": "code",
   "execution_count": 48,
   "metadata": {},
   "outputs": [
    {
     "data": {
      "text/plain": [
       "<matplotlib.axes._subplots.AxesSubplot at 0x19679358a60>"
      ]
     },
     "execution_count": 48,
     "metadata": {},
     "output_type": "execute_result"
    },
    {
     "data": {
      "image/png": "[encoded data removed]",
      "text/plain": [
       "<Figure size 432x288 with 1 Axes>"
      ]
     },
     "metadata": {
      "needs_background": "light"
     },
     "output_type": "display_data"
    }
   ],
   "source": [
    "sns.distplot(train_policy['Holding_Policy_Type'])"
   ]
  },
  {
   "cell_type": "code",
   "execution_count": 49,
   "metadata": {},
   "outputs": [
    {
     "data": {
      "text/plain": [
       "Index(['ID', 'City_Code', 'Region_Code', 'Accomodation_Type',\n",
       "       'Reco_Insurance_Type', 'Upper_Age', 'Lower_Age', 'Is_Spouse',\n",
       "       'Health Indicator', 'Holding_Policy_Duration', 'Holding_Policy_Type',\n",
       "       'Reco_Policy_Cat', 'Reco_Policy_Premium', 'Response'],\n",
       "      dtype='object')"
      ]
     },
     "execution_count": 49,
     "metadata": {},
     "output_type": "execute_result"
    }
   ],
   "source": [
    "train_policy.columns"
   ]
  },
  {
   "cell_type": "code",
   "execution_count": 54,
   "metadata": {},
   "outputs": [
    {
     "data": {
      "text/plain": [
       "array([3213, 1117, 3732, ..., 5326, 6149, 5450], dtype=int64)"
      ]
     },
     "execution_count": 54,
     "metadata": {},
     "output_type": "execute_result"
    }
   ],
   "source": [
    "train_policy['Region_Code'].unique()"
   ]
  },
  {
   "cell_type": "code",
   "execution_count": 55,
   "metadata": {},
   "outputs": [
    {
     "data": {
      "text/plain": [
       "<matplotlib.axes._subplots.AxesSubplot at 0x1967a90aee0>"
      ]
     },
     "execution_count": 55,
     "metadata": {},
     "output_type": "execute_result"
    },
    {
     "data": {
      "image/png": "[encoded data removed]",
      "text/plain": [
       "<Figure size 432x288 with 1 Axes>"
      ]
     },
     "metadata": {
      "needs_background": "light"
     },
     "output_type": "display_data"
    }
   ],
   "source": [
    "sns.distplot(train_policy['Region_Code'])"
   ]
  },
  {
   "cell_type": "code",
   "execution_count": 56,
   "metadata": {},
   "outputs": [
    {
     "data": {
      "text/plain": [
       "<matplotlib.axes._subplots.AxesSubplot at 0x1967aad7340>"
      ]
     },
     "execution_count": 56,
     "metadata": {},
     "output_type": "execute_result"
    },
    {
     "data": {
      "image/png": "[encoded data removed]",
      "text/plain": [
       "<Figure size 432x288 with 1 Axes>"
      ]
     },
     "metadata": {
      "needs_background": "light"
     },
     "output_type": "display_data"
    }
   ],
   "source": [
    "sns.barplot(train_policy['Is_Spouse'],train_policy['Holding_Policy_Duration'],data=train_policy)"
   ]
  },
  {
   "cell_type": "code",
   "execution_count": 58,
   "metadata": {},
   "outputs": [
    {
     "data": {
      "text/plain": [
       "array([3, 2, 1, 4])"
      ]
     },
     "execution_count": 58,
     "metadata": {},
     "output_type": "execute_result"
    }
   ],
   "source": [
    "train_policy['Holding_Policy_Type'].unique()"
   ]
  },
  {
   "cell_type": "code",
   "execution_count": 60,
   "metadata": {},
   "outputs": [
    {
     "data": {
      "text/plain": [
       "<matplotlib.axes._subplots.AxesSubplot at 0x1967ab7c7f0>"
      ]
     },
     "execution_count": 60,
     "metadata": {},
     "output_type": "execute_result"
    },
    {
     "data": {
      "image/png": "[encoded data removed]",
      "text/plain": [
       "<Figure size 432x288 with 1 Axes>"
      ]
     },
     "metadata": {
      "needs_background": "light"
     },
     "output_type": "display_data"
    }
   ],
   "source": [
    "sns.barplot(train_policy['Holding_Policy_Type'],train_policy['Reco_Policy_Cat'])"
   ]
  },
  {
   "cell_type": "code",
   "execution_count": 61,
   "metadata": {
    "scrolled": true
   },
   "outputs": [
    {
     "data": {
      "text/plain": [
       "array([22, 19, 16, 17,  1, 18, 21, 13, 20,  9,  2,  4, 12,  6, 14, 11,  3,\n",
       "        8,  7, 10, 15,  5], dtype=int64)"
      ]
     },
     "execution_count": 61,
     "metadata": {},
     "output_type": "execute_result"
    }
   ],
   "source": [
    "train_policy['Reco_Policy_Cat'].unique()"
   ]
  },
  {
   "cell_type": "code",
   "execution_count": 66,
   "metadata": {},
   "outputs": [
    {
     "data": {
      "text/plain": [
       "                     Is_Spouse  Holding_Policy_Type  Response\n",
       "Reco_Policy_Premium  No         1                    0           13271.824920\n",
       "                                                     1           13345.671437\n",
       "                                2                    0           11501.661062\n",
       "                                                     1           11628.280023\n",
       "                                3                    0           14149.045240\n",
       "                                                     1           14143.886822\n",
       "                                4                    0           14270.402137\n",
       "                                                     1           14350.217323\n",
       "                     Yes        1                    0           21209.704730\n",
       "                                                     1           20387.668345\n",
       "                                2                    0           20896.101586\n",
       "                                                     1           21188.400463\n",
       "                                3                    0           22530.065159\n",
       "                                                     1           22807.488226\n",
       "                                4                    0           23413.321554\n",
       "                                                     1           23075.818248\n",
       "dtype: float64"
      ]
     },
     "execution_count": 66,
     "metadata": {},
     "output_type": "execute_result"
    }
   ],
   "source": [
    "pd.pivot_table(columns=['Is_Spouse','Holding_Policy_Type','Response'],values=['Reco_Policy_Premium'],data=train_policy)"
   ]
  },
  {
   "cell_type": "code",
   "execution_count": 67,
   "metadata": {},
   "outputs": [
    {
     "data": {
      "text/plain": [
       "<matplotlib.axes._subplots.AxesSubplot at 0x19679322c10>"
      ]
     },
     "execution_count": 67,
     "metadata": {},
     "output_type": "execute_result"
    },
    {
     "data": {
      "image/png": "[encoded data removed]",
      "text/plain": [
       "<Figure size 432x288 with 1 Axes>"
      ]
     },
     "metadata": {
      "needs_background": "light"
     },
     "output_type": "display_data"
    }
   ],
   "source": [
    "sns.barplot(train_policy['Response'],train_policy['Region_Code'],data=train_policy)"
   ]
  },
  {
   "cell_type": "code",
   "execution_count": 71,
   "metadata": {},
   "outputs": [
    {
     "data": {
      "text/plain": [
       "<matplotlib.axes._subplots.AxesSubplot at 0x1967af5d970>"
      ]
     },
     "execution_count": 71,
     "metadata": {},
     "output_type": "execute_result"
    },
    {
     "data": {
      "image/png": "[encoded data removed]",
      "text/plain": [
       "<Figure size 432x288 with 1 Axes>"
      ]
     },
     "metadata": {
      "needs_background": "light"
     },
     "output_type": "display_data"
    }
   ],
   "source": [
    "sns.countplot(train_policy['Accomodation_Type'],hue=train_policy['Response'])"
   ]
  },
  {
   "cell_type": "code",
   "execution_count": 75,
   "metadata": {},
   "outputs": [
    {
     "data": {
      "text/plain": [
       "<matplotlib.axes._subplots.AxesSubplot at 0x196043f0f70>"
      ]
     },
     "execution_count": 75,
     "metadata": {},
     "output_type": "execute_result"
    },
    {
     "data": {
      "image/png": "[encoded data removed]",
      "text/plain": [
       "<Figure size 432x288 with 1 Axes>"
      ]
     },
     "metadata": {
      "needs_background": "light"
     },
     "output_type": "display_data"
    }
   ],
   "source": [
    "sns.scatterplot(train_policy['Region_Code'],train_policy['Holding_Policy_Type'],data=train_policy)"
   ]
  },
  {
   "cell_type": "code",
   "execution_count": 79,
   "metadata": {},
   "outputs": [
    {
     "data": {
      "text/plain": [
       "<matplotlib.axes._subplots.AxesSubplot at 0x1967de74400>"
      ]
     },
     "execution_count": 79,
     "metadata": {},
     "output_type": "execute_result"
    },
    {
     "data": {
      "image/png": "[encoded data removed]",
      "text/plain": [
       "<Figure size 432x288 with 1 Axes>"
      ]
     },
     "metadata": {
      "needs_background": "light"
     },
     "output_type": "display_data"
    }
   ],
   "source": [
    "sns.countplot(train_policy['Reco_Policy_Cat'],hue=train_policy['Holding_Policy_Type'])"
   ]
  },
  {
   "cell_type": "code",
   "execution_count": 63,
   "metadata": {},
   "outputs": [
    {
     "data": {
      "text/plain": [
       "<matplotlib.axes._subplots.AxesSubplot at 0x1967aa99790>"
      ]
     },
     "execution_count": 63,
     "metadata": {},
     "output_type": "execute_result"
    },
    {
     "data": {
      "image/png": "[encoded data removed]",
      "text/plain": [
       "<Figure size 432x288 with 1 Axes>"
      ]
     },
     "metadata": {
      "needs_background": "light"
     },
     "output_type": "display_data"
    }
   ],
   "source": [
    "sns.distplot(train_policy['Reco_Policy_Premium'])"
   ]
  },
  {
   "cell_type": "code",
   "execution_count": 80,
   "metadata": {
    "scrolled": true
   },
   "outputs": [
    {
     "data": {
      "text/plain": [
       "array(['C3', 'C5', 'C24', 'C8', 'C9', 'C1', 'C15', 'C28', 'C27', 'C7',\n",
       "       'C20', 'C25', 'C4', 'C2', 'C34', 'C10', 'C17', 'C18', 'C16', 'C29',\n",
       "       'C33', 'C26', 'C19', 'C6', 'C12', 'C13', 'C11', 'C14', 'C22',\n",
       "       'C23', 'C21', 'C36', 'C32', 'C30', 'C35', 'C31'], dtype=object)"
      ]
     },
     "execution_count": 80,
     "metadata": {},
     "output_type": "execute_result"
    }
   ],
   "source": [
    "train_policy['City_Code'].unique()"
   ]
  },
  {
   "cell_type": "code",
   "execution_count": 122,
   "metadata": {},
   "outputs": [
    {
     "data": {
      "text/plain": [
       "array(['C1', 'C4', 'C3', 'C2', 'C13', 'C18', 'C16', 'C17', 'C11', 'C7',\n",
       "       'C21', 'C34', 'C14', 'C8', 'C12', 'C6', 'C10', 'C9', 'C23', 'C32',\n",
       "       'C26', 'C15', 'C24', 'C20', 'C19', 'C5', 'C28', 'C30', 'C25',\n",
       "       'C29', 'C27', 'C33', 'C22', 'C36', 'C35', 'C31'], dtype=object)"
      ]
     },
     "execution_count": 122,
     "metadata": {},
     "output_type": "execute_result"
    }
   ],
   "source": [
    "test_policy['City_Code'].unique()"
   ]
  },
  {
   "cell_type": "code",
   "execution_count": 82,
   "metadata": {},
   "outputs": [],
   "source": [
    "Le=LabelEncoder()"
   ]
  },
  {
   "cell_type": "code",
   "execution_count": 83,
   "metadata": {},
   "outputs": [],
   "source": [
    "train_policy['City_Code'] = Le.fit_transform(train_policy['City_Code'])"
   ]
  },
  {
   "cell_type": "code",
   "execution_count": 123,
   "metadata": {},
   "outputs": [],
   "source": [
    "test_policy['City_Code'] = Le.fit_transform(test_policy['City_Code'])"
   ]
  },
  {
   "cell_type": "code",
   "execution_count": 84,
   "metadata": {
    "scrolled": true
   },
   "outputs": [
    {
     "data": {
      "text/plain": [
       "array([22, 31, 16, 34, 35,  0,  6, 20, 19, 33, 12, 17, 30, 11, 27,  1,  8,\n",
       "        9,  7, 21, 26, 18, 10, 32,  3,  4,  2,  5, 14, 15, 13, 29, 25, 23,\n",
       "       28, 24])"
      ]
     },
     "execution_count": 84,
     "metadata": {},
     "output_type": "execute_result"
    }
   ],
   "source": [
    "train_policy['City_Code'].unique()"
   ]
  },
  {
   "cell_type": "code",
   "execution_count": 124,
   "metadata": {},
   "outputs": [
    {
     "data": {
      "text/plain": [
       "array([ 0, 30, 22, 11,  4,  9,  7,  8,  2, 33, 13, 27,  5, 34,  3, 32,  1,\n",
       "       35, 15, 25, 18,  6, 16, 12, 10, 31, 20, 23, 17, 21, 19, 26, 14, 29,\n",
       "       28, 24])"
      ]
     },
     "execution_count": 124,
     "metadata": {},
     "output_type": "execute_result"
    }
   ],
   "source": [
    "test_policy['City_Code'].unique()"
   ]
  },
  {
   "cell_type": "code",
   "execution_count": 85,
   "metadata": {},
   "outputs": [],
   "source": [
    "train_policy['Accomodation_Type'] = train_policy['Accomodation_Type'].map( {'Rented': 0, 'Owned': 1} ).astype(int)"
   ]
  },
  {
   "cell_type": "code",
   "execution_count": 125,
   "metadata": {},
   "outputs": [],
   "source": [
    "test_policy['Accomodation_Type'] = test_policy['Accomodation_Type'].map( {'Rented': 0, 'Owned': 1} ).astype(int)"
   ]
  },
  {
   "cell_type": "code",
   "execution_count": 86,
   "metadata": {},
   "outputs": [
    {
     "data": {
      "text/plain": [
       "array([0, 1])"
      ]
     },
     "execution_count": 86,
     "metadata": {},
     "output_type": "execute_result"
    }
   ],
   "source": [
    "train_policy['Accomodation_Type'].unique()"
   ]
  },
  {
   "cell_type": "code",
   "execution_count": 87,
   "metadata": {},
   "outputs": [
    {
     "data": {
      "text/plain": [
       "array(['Individual', 'Joint'], dtype=object)"
      ]
     },
     "execution_count": 87,
     "metadata": {},
     "output_type": "execute_result"
    }
   ],
   "source": [
    "train_policy['Reco_Insurance_Type'].unique()"
   ]
  },
  {
   "cell_type": "code",
   "execution_count": 88,
   "metadata": {},
   "outputs": [],
   "source": [
    "train_policy['Reco_Insurance_Type'] = train_policy['Reco_Insurance_Type'].map( {'Individual': 0, 'Joint': 1} ).astype(int)"
   ]
  },
  {
   "cell_type": "code",
   "execution_count": 126,
   "metadata": {},
   "outputs": [],
   "source": [
    "test_policy['Reco_Insurance_Type'] = test_policy['Reco_Insurance_Type'].map( {'Individual': 0, 'Joint': 1} ).astype(int)"
   ]
  },
  {
   "cell_type": "code",
   "execution_count": 89,
   "metadata": {},
   "outputs": [
    {
     "data": {
      "text/plain": [
       "array([0, 1])"
      ]
     },
     "execution_count": 89,
     "metadata": {},
     "output_type": "execute_result"
    }
   ],
   "source": [
    "train_policy['Reco_Insurance_Type'].unique()"
   ]
  },
  {
   "cell_type": "code",
   "execution_count": 90,
   "metadata": {},
   "outputs": [
    {
     "data": {
      "text/plain": [
       "array(['No', 'Yes'], dtype=object)"
      ]
     },
     "execution_count": 90,
     "metadata": {},
     "output_type": "execute_result"
    }
   ],
   "source": [
    "train_policy['Is_Spouse'].unique()"
   ]
  },
  {
   "cell_type": "code",
   "execution_count": 95,
   "metadata": {},
   "outputs": [],
   "source": [
    "train_policy['Is_Spouse'] = train_policy['Is_Spouse'].map( {'No': 0, 'Yes': 1} ).astype(int)"
   ]
  },
  {
   "cell_type": "code",
   "execution_count": 127,
   "metadata": {},
   "outputs": [],
   "source": [
    "test_policy['Is_Spouse'] = test_policy['Is_Spouse'].map( {'No': 0, 'Yes': 1} ).astype(int)"
   ]
  },
  {
   "cell_type": "code",
   "execution_count": 96,
   "metadata": {},
   "outputs": [
    {
     "data": {
      "text/plain": [
       "array([0, 1])"
      ]
     },
     "execution_count": 96,
     "metadata": {},
     "output_type": "execute_result"
    }
   ],
   "source": [
    "train_policy['Is_Spouse'].unique()"
   ]
  },
  {
   "cell_type": "code",
   "execution_count": 91,
   "metadata": {
    "scrolled": true
   },
   "outputs": [
    {
     "data": {
      "text/plain": [
       "array(['X1', 'X2', 'X4', 'X3', 'X6', 'X5', 'X8', 'X7', 'X9'], dtype=object)"
      ]
     },
     "execution_count": 91,
     "metadata": {},
     "output_type": "execute_result"
    }
   ],
   "source": [
    "train_policy['Health Indicator'].unique()"
   ]
  },
  {
   "cell_type": "code",
   "execution_count": 128,
   "metadata": {},
   "outputs": [
    {
     "data": {
      "text/plain": [
       "array(['X1', 'X3', 'X2', 'X5', 'X4', 'X7', 'X6', 'X9', 'X8'], dtype=object)"
      ]
     },
     "execution_count": 128,
     "metadata": {},
     "output_type": "execute_result"
    }
   ],
   "source": [
    "test_policy['Health Indicator'].unique()"
   ]
  },
  {
   "cell_type": "code",
   "execution_count": 92,
   "metadata": {},
   "outputs": [],
   "source": [
    "train_policy['Health Indicator'] = train_policy['Health Indicator'].replace(['X1', 'X2', 'X4', 'X3', 'X6', 'X5', 'X8', 'X7', 'X9'],[1,2,3,4,5,6,7,8,9])"
   ]
  },
  {
   "cell_type": "code",
   "execution_count": 129,
   "metadata": {},
   "outputs": [],
   "source": [
    "test_policy['Health Indicator'] = test_policy['Health Indicator'].replace(['X1', 'X2', 'X4', 'X3', 'X6', 'X5', 'X8', 'X7', 'X9'],[1,2,3,4,5,6,7,8,9])"
   ]
  },
  {
   "cell_type": "code",
   "execution_count": 93,
   "metadata": {},
   "outputs": [
    {
     "data": {
      "text/plain": [
       "array([1, 2, 3, 4, 5, 6, 7, 8, 9], dtype=int64)"
      ]
     },
     "execution_count": 93,
     "metadata": {},
     "output_type": "execute_result"
    }
   ],
   "source": [
    "train_policy['Health Indicator'].unique()"
   ]
  },
  {
   "cell_type": "code",
   "execution_count": 97,
   "metadata": {
    "scrolled": true
   },
   "outputs": [
    {
     "data": {
      "text/html": [
       "<div>\n",
       "<style scoped>\n",
       "    .dataframe tbody tr th:only-of-type {\n",
       "        vertical-align: middle;\n",
       "    }\n",
       "\n",
       "    .dataframe tbody tr th {\n",
       "        vertical-align: top;\n",
       "    }\n",
       "\n",
       "    .dataframe thead th {\n",
       "        text-align: right;\n",
       "    }\n",
       "</style>\n",
       "<table border=\"1\" class=\"dataframe\">\n",
       "  <thead>\n",
       "    <tr style=\"text-align: right;\">\n",
       "      <th></th>\n",
       "      <th>ID</th>\n",
       "      <th>City_Code</th>\n",
       "      <th>Region_Code</th>\n",
       "      <th>Accomodation_Type</th>\n",
       "      <th>Reco_Insurance_Type</th>\n",
       "      <th>Upper_Age</th>\n",
       "      <th>Lower_Age</th>\n",
       "      <th>Is_Spouse</th>\n",
       "      <th>Health Indicator</th>\n",
       "      <th>Holding_Policy_Duration</th>\n",
       "      <th>Holding_Policy_Type</th>\n",
       "      <th>Reco_Policy_Cat</th>\n",
       "      <th>Reco_Policy_Premium</th>\n",
       "      <th>Response</th>\n",
       "    </tr>\n",
       "  </thead>\n",
       "  <tbody>\n",
       "    <tr>\n",
       "      <th>0</th>\n",
       "      <td>1</td>\n",
       "      <td>22</td>\n",
       "      <td>3213</td>\n",
       "      <td>0</td>\n",
       "      <td>0</td>\n",
       "      <td>36</td>\n",
       "      <td>36</td>\n",
       "      <td>0</td>\n",
       "      <td>1</td>\n",
       "      <td>15.0</td>\n",
       "      <td>3</td>\n",
       "      <td>22</td>\n",
       "      <td>11628.0</td>\n",
       "      <td>0</td>\n",
       "    </tr>\n",
       "    <tr>\n",
       "      <th>1</th>\n",
       "      <td>2</td>\n",
       "      <td>31</td>\n",
       "      <td>1117</td>\n",
       "      <td>1</td>\n",
       "      <td>1</td>\n",
       "      <td>75</td>\n",
       "      <td>22</td>\n",
       "      <td>0</td>\n",
       "      <td>2</td>\n",
       "      <td>1.0</td>\n",
       "      <td>2</td>\n",
       "      <td>22</td>\n",
       "      <td>30510.0</td>\n",
       "      <td>0</td>\n",
       "    </tr>\n",
       "    <tr>\n",
       "      <th>2</th>\n",
       "      <td>3</td>\n",
       "      <td>31</td>\n",
       "      <td>3732</td>\n",
       "      <td>1</td>\n",
       "      <td>0</td>\n",
       "      <td>32</td>\n",
       "      <td>32</td>\n",
       "      <td>0</td>\n",
       "      <td>1</td>\n",
       "      <td>1.0</td>\n",
       "      <td>1</td>\n",
       "      <td>19</td>\n",
       "      <td>7450.0</td>\n",
       "      <td>1</td>\n",
       "    </tr>\n",
       "    <tr>\n",
       "      <th>3</th>\n",
       "      <td>4</td>\n",
       "      <td>16</td>\n",
       "      <td>4378</td>\n",
       "      <td>1</td>\n",
       "      <td>1</td>\n",
       "      <td>52</td>\n",
       "      <td>48</td>\n",
       "      <td>0</td>\n",
       "      <td>1</td>\n",
       "      <td>15.0</td>\n",
       "      <td>3</td>\n",
       "      <td>19</td>\n",
       "      <td>17780.0</td>\n",
       "      <td>0</td>\n",
       "    </tr>\n",
       "    <tr>\n",
       "      <th>4</th>\n",
       "      <td>5</td>\n",
       "      <td>34</td>\n",
       "      <td>2190</td>\n",
       "      <td>0</td>\n",
       "      <td>0</td>\n",
       "      <td>44</td>\n",
       "      <td>44</td>\n",
       "      <td>0</td>\n",
       "      <td>2</td>\n",
       "      <td>3.0</td>\n",
       "      <td>1</td>\n",
       "      <td>16</td>\n",
       "      <td>10404.0</td>\n",
       "      <td>0</td>\n",
       "    </tr>\n",
       "  </tbody>\n",
       "</table>\n",
       "</div>"
      ],
      "text/plain": [
       "   ID  City_Code  Region_Code  Accomodation_Type  Reco_Insurance_Type  \\\n",
       "0   1         22         3213                  0                    0   \n",
       "1   2         31         1117                  1                    1   \n",
       "2   3         31         3732                  1                    0   \n",
       "3   4         16         4378                  1                    1   \n",
       "4   5         34         2190                  0                    0   \n",
       "\n",
       "   Upper_Age  Lower_Age  Is_Spouse  Health Indicator  Holding_Policy_Duration  \\\n",
       "0         36         36          0                 1                     15.0   \n",
       "1         75         22          0                 2                      1.0   \n",
       "2         32         32          0                 1                      1.0   \n",
       "3         52         48          0                 1                     15.0   \n",
       "4         44         44          0                 2                      3.0   \n",
       "\n",
       "   Holding_Policy_Type  Reco_Policy_Cat  Reco_Policy_Premium  Response  \n",
       "0                    3               22              11628.0         0  \n",
       "1                    2               22              30510.0         0  \n",
       "2                    1               19               7450.0         1  \n",
       "3                    3               19              17780.0         0  \n",
       "4                    1               16              10404.0         0  "
      ]
     },
     "execution_count": 97,
     "metadata": {},
     "output_type": "execute_result"
    }
   ],
   "source": [
    "train_policy.head()"
   ]
  },
  {
   "cell_type": "code",
   "execution_count": 130,
   "metadata": {},
   "outputs": [
    {
     "data": {
      "text/html": [
       "<div>\n",
       "<style scoped>\n",
       "    .dataframe tbody tr th:only-of-type {\n",
       "        vertical-align: middle;\n",
       "    }\n",
       "\n",
       "    .dataframe tbody tr th {\n",
       "        vertical-align: top;\n",
       "    }\n",
       "\n",
       "    .dataframe thead th {\n",
       "        text-align: right;\n",
       "    }\n",
       "</style>\n",
       "<table border=\"1\" class=\"dataframe\">\n",
       "  <thead>\n",
       "    <tr style=\"text-align: right;\">\n",
       "      <th></th>\n",
       "      <th>ID</th>\n",
       "      <th>City_Code</th>\n",
       "      <th>Region_Code</th>\n",
       "      <th>Accomodation_Type</th>\n",
       "      <th>Reco_Insurance_Type</th>\n",
       "      <th>Upper_Age</th>\n",
       "      <th>Lower_Age</th>\n",
       "      <th>Is_Spouse</th>\n",
       "      <th>Health Indicator</th>\n",
       "      <th>Holding_Policy_Duration</th>\n",
       "      <th>Holding_Policy_Type</th>\n",
       "      <th>Reco_Policy_Cat</th>\n",
       "      <th>Reco_Policy_Premium</th>\n",
       "    </tr>\n",
       "  </thead>\n",
       "  <tbody>\n",
       "    <tr>\n",
       "      <th>0</th>\n",
       "      <td>50883</td>\n",
       "      <td>0</td>\n",
       "      <td>156</td>\n",
       "      <td>1</td>\n",
       "      <td>0</td>\n",
       "      <td>30</td>\n",
       "      <td>30</td>\n",
       "      <td>0</td>\n",
       "      <td>1</td>\n",
       "      <td>6.0</td>\n",
       "      <td>3.000000</td>\n",
       "      <td>5</td>\n",
       "      <td>11934.0</td>\n",
       "    </tr>\n",
       "    <tr>\n",
       "      <th>1</th>\n",
       "      <td>50884</td>\n",
       "      <td>30</td>\n",
       "      <td>7</td>\n",
       "      <td>1</td>\n",
       "      <td>1</td>\n",
       "      <td>69</td>\n",
       "      <td>68</td>\n",
       "      <td>1</td>\n",
       "      <td>1</td>\n",
       "      <td>3.0</td>\n",
       "      <td>3.000000</td>\n",
       "      <td>18</td>\n",
       "      <td>32204.8</td>\n",
       "    </tr>\n",
       "    <tr>\n",
       "      <th>2</th>\n",
       "      <td>50885</td>\n",
       "      <td>0</td>\n",
       "      <td>564</td>\n",
       "      <td>0</td>\n",
       "      <td>0</td>\n",
       "      <td>28</td>\n",
       "      <td>28</td>\n",
       "      <td>0</td>\n",
       "      <td>4</td>\n",
       "      <td>2.0</td>\n",
       "      <td>4.000000</td>\n",
       "      <td>17</td>\n",
       "      <td>9240.0</td>\n",
       "    </tr>\n",
       "    <tr>\n",
       "      <th>3</th>\n",
       "      <td>50886</td>\n",
       "      <td>22</td>\n",
       "      <td>1177</td>\n",
       "      <td>0</td>\n",
       "      <td>0</td>\n",
       "      <td>23</td>\n",
       "      <td>23</td>\n",
       "      <td>0</td>\n",
       "      <td>4</td>\n",
       "      <td>3.0</td>\n",
       "      <td>3.000000</td>\n",
       "      <td>18</td>\n",
       "      <td>9086.0</td>\n",
       "    </tr>\n",
       "    <tr>\n",
       "      <th>4</th>\n",
       "      <td>50887</td>\n",
       "      <td>0</td>\n",
       "      <td>951</td>\n",
       "      <td>1</td>\n",
       "      <td>0</td>\n",
       "      <td>75</td>\n",
       "      <td>75</td>\n",
       "      <td>0</td>\n",
       "      <td>4</td>\n",
       "      <td>15.0</td>\n",
       "      <td>2.440085</td>\n",
       "      <td>5</td>\n",
       "      <td>22534.0</td>\n",
       "    </tr>\n",
       "  </tbody>\n",
       "</table>\n",
       "</div>"
      ],
      "text/plain": [
       "      ID  City_Code  Region_Code  Accomodation_Type  Reco_Insurance_Type  \\\n",
       "0  50883          0          156                  1                    0   \n",
       "1  50884         30            7                  1                    1   \n",
       "2  50885          0          564                  0                    0   \n",
       "3  50886         22         1177                  0                    0   \n",
       "4  50887          0          951                  1                    0   \n",
       "\n",
       "   Upper_Age  Lower_Age  Is_Spouse  Health Indicator  Holding_Policy_Duration  \\\n",
       "0         30         30          0                 1                      6.0   \n",
       "1         69         68          1                 1                      3.0   \n",
       "2         28         28          0                 4                      2.0   \n",
       "3         23         23          0                 4                      3.0   \n",
       "4         75         75          0                 4                     15.0   \n",
       "\n",
       "   Holding_Policy_Type  Reco_Policy_Cat  Reco_Policy_Premium  \n",
       "0             3.000000                5              11934.0  \n",
       "1             3.000000               18              32204.8  \n",
       "2             4.000000               17               9240.0  \n",
       "3             3.000000               18               9086.0  \n",
       "4             2.440085                5              22534.0  "
      ]
     },
     "execution_count": 130,
     "metadata": {},
     "output_type": "execute_result"
    }
   ],
   "source": [
    "test_policy.head()"
   ]
  },
  {
   "cell_type": "code",
   "execution_count": 98,
   "metadata": {},
   "outputs": [],
   "source": [
    "mm = MinMaxScaler()\n",
    "train_policy[Num_col] = mm.fit_transform(train_policy[Num_col])"
   ]
  },
  {
   "cell_type": "code",
   "execution_count": 131,
   "metadata": {},
   "outputs": [],
   "source": [
    "mm = MinMaxScaler()\n",
    "test_policy[test_Num_col] = mm.fit_transform(test_policy[test_Num_col])"
   ]
  },
  {
   "cell_type": "code",
   "execution_count": 99,
   "metadata": {
    "scrolled": false
   },
   "outputs": [
    {
     "data": {
      "text/html": [
       "<div>\n",
       "<style scoped>\n",
       "    .dataframe tbody tr th:only-of-type {\n",
       "        vertical-align: middle;\n",
       "    }\n",
       "\n",
       "    .dataframe tbody tr th {\n",
       "        vertical-align: top;\n",
       "    }\n",
       "\n",
       "    .dataframe thead th {\n",
       "        text-align: right;\n",
       "    }\n",
       "</style>\n",
       "<table border=\"1\" class=\"dataframe\">\n",
       "  <thead>\n",
       "    <tr style=\"text-align: right;\">\n",
       "      <th></th>\n",
       "      <th>ID</th>\n",
       "      <th>City_Code</th>\n",
       "      <th>Region_Code</th>\n",
       "      <th>Accomodation_Type</th>\n",
       "      <th>Reco_Insurance_Type</th>\n",
       "      <th>Upper_Age</th>\n",
       "      <th>Lower_Age</th>\n",
       "      <th>Is_Spouse</th>\n",
       "      <th>Health Indicator</th>\n",
       "      <th>Holding_Policy_Duration</th>\n",
       "      <th>Holding_Policy_Type</th>\n",
       "      <th>Reco_Policy_Cat</th>\n",
       "      <th>Reco_Policy_Premium</th>\n",
       "      <th>Response</th>\n",
       "    </tr>\n",
       "  </thead>\n",
       "  <tbody>\n",
       "    <tr>\n",
       "      <th>0</th>\n",
       "      <td>1</td>\n",
       "      <td>22</td>\n",
       "      <td>0.518650</td>\n",
       "      <td>0</td>\n",
       "      <td>0</td>\n",
       "      <td>0.315789</td>\n",
       "      <td>0.338983</td>\n",
       "      <td>0</td>\n",
       "      <td>1</td>\n",
       "      <td>1.000000</td>\n",
       "      <td>0.666667</td>\n",
       "      <td>1.000000</td>\n",
       "      <td>0.227609</td>\n",
       "      <td>0.0</td>\n",
       "    </tr>\n",
       "    <tr>\n",
       "      <th>1</th>\n",
       "      <td>2</td>\n",
       "      <td>31</td>\n",
       "      <td>0.180203</td>\n",
       "      <td>1</td>\n",
       "      <td>1</td>\n",
       "      <td>1.000000</td>\n",
       "      <td>0.101695</td>\n",
       "      <td>0</td>\n",
       "      <td>2</td>\n",
       "      <td>0.000000</td>\n",
       "      <td>0.333333</td>\n",
       "      <td>1.000000</td>\n",
       "      <td>0.687356</td>\n",
       "      <td>0.0</td>\n",
       "    </tr>\n",
       "    <tr>\n",
       "      <th>2</th>\n",
       "      <td>3</td>\n",
       "      <td>31</td>\n",
       "      <td>0.602454</td>\n",
       "      <td>1</td>\n",
       "      <td>0</td>\n",
       "      <td>0.245614</td>\n",
       "      <td>0.271186</td>\n",
       "      <td>0</td>\n",
       "      <td>1</td>\n",
       "      <td>0.000000</td>\n",
       "      <td>0.000000</td>\n",
       "      <td>0.857143</td>\n",
       "      <td>0.125881</td>\n",
       "      <td>1.0</td>\n",
       "    </tr>\n",
       "    <tr>\n",
       "      <th>3</th>\n",
       "      <td>4</td>\n",
       "      <td>16</td>\n",
       "      <td>0.706766</td>\n",
       "      <td>1</td>\n",
       "      <td>1</td>\n",
       "      <td>0.596491</td>\n",
       "      <td>0.542373</td>\n",
       "      <td>0</td>\n",
       "      <td>1</td>\n",
       "      <td>1.000000</td>\n",
       "      <td>0.666667</td>\n",
       "      <td>0.857143</td>\n",
       "      <td>0.377401</td>\n",
       "      <td>0.0</td>\n",
       "    </tr>\n",
       "    <tr>\n",
       "      <th>4</th>\n",
       "      <td>5</td>\n",
       "      <td>34</td>\n",
       "      <td>0.353464</td>\n",
       "      <td>0</td>\n",
       "      <td>0</td>\n",
       "      <td>0.456140</td>\n",
       "      <td>0.474576</td>\n",
       "      <td>0</td>\n",
       "      <td>2</td>\n",
       "      <td>0.142857</td>\n",
       "      <td>0.000000</td>\n",
       "      <td>0.714286</td>\n",
       "      <td>0.197807</td>\n",
       "      <td>0.0</td>\n",
       "    </tr>\n",
       "  </tbody>\n",
       "</table>\n",
       "</div>"
      ],
      "text/plain": [
       "   ID  City_Code  Region_Code  Accomodation_Type  Reco_Insurance_Type  \\\n",
       "0   1         22     0.518650                  0                    0   \n",
       "1   2         31     0.180203                  1                    1   \n",
       "2   3         31     0.602454                  1                    0   \n",
       "3   4         16     0.706766                  1                    1   \n",
       "4   5         34     0.353464                  0                    0   \n",
       "\n",
       "   Upper_Age  Lower_Age  Is_Spouse  Health Indicator  Holding_Policy_Duration  \\\n",
       "0   0.315789   0.338983          0                 1                 1.000000   \n",
       "1   1.000000   0.101695          0                 2                 0.000000   \n",
       "2   0.245614   0.271186          0                 1                 0.000000   \n",
       "3   0.596491   0.542373          0                 1                 1.000000   \n",
       "4   0.456140   0.474576          0                 2                 0.142857   \n",
       "\n",
       "   Holding_Policy_Type  Reco_Policy_Cat  Reco_Policy_Premium  Response  \n",
       "0             0.666667         1.000000             0.227609       0.0  \n",
       "1             0.333333         1.000000             0.687356       0.0  \n",
       "2             0.000000         0.857143             0.125881       1.0  \n",
       "3             0.666667         0.857143             0.377401       0.0  \n",
       "4             0.000000         0.714286             0.197807       0.0  "
      ]
     },
     "execution_count": 99,
     "metadata": {},
     "output_type": "execute_result"
    }
   ],
   "source": [
    "train_policy.head()"
   ]
  },
  {
   "cell_type": "code",
   "execution_count": 134,
   "metadata": {},
   "outputs": [],
   "source": [
    "X_test = test_policy.drop(['ID'],axis=1)"
   ]
  },
  {
   "cell_type": "code",
   "execution_count": 135,
   "metadata": {},
   "outputs": [
    {
     "data": {
      "text/html": [
       "<div>\n",
       "<style scoped>\n",
       "    .dataframe tbody tr th:only-of-type {\n",
       "        vertical-align: middle;\n",
       "    }\n",
       "\n",
       "    .dataframe tbody tr th {\n",
       "        vertical-align: top;\n",
       "    }\n",
       "\n",
       "    .dataframe thead th {\n",
       "        text-align: right;\n",
       "    }\n",
       "</style>\n",
       "<table border=\"1\" class=\"dataframe\">\n",
       "  <thead>\n",
       "    <tr style=\"text-align: right;\">\n",
       "      <th></th>\n",
       "      <th>City_Code</th>\n",
       "      <th>Region_Code</th>\n",
       "      <th>Accomodation_Type</th>\n",
       "      <th>Reco_Insurance_Type</th>\n",
       "      <th>Upper_Age</th>\n",
       "      <th>Lower_Age</th>\n",
       "      <th>Is_Spouse</th>\n",
       "      <th>Health Indicator</th>\n",
       "      <th>Holding_Policy_Duration</th>\n",
       "      <th>Holding_Policy_Type</th>\n",
       "      <th>Reco_Policy_Cat</th>\n",
       "      <th>Reco_Policy_Premium</th>\n",
       "    </tr>\n",
       "  </thead>\n",
       "  <tbody>\n",
       "    <tr>\n",
       "      <th>0</th>\n",
       "      <td>0</td>\n",
       "      <td>0.025065</td>\n",
       "      <td>1</td>\n",
       "      <td>0</td>\n",
       "      <td>0.210526</td>\n",
       "      <td>0.237288</td>\n",
       "      <td>0</td>\n",
       "      <td>1</td>\n",
       "      <td>0.357143</td>\n",
       "      <td>0.666667</td>\n",
       "      <td>0.190476</td>\n",
       "      <td>0.235009</td>\n",
       "    </tr>\n",
       "    <tr>\n",
       "      <th>1</th>\n",
       "      <td>30</td>\n",
       "      <td>0.000970</td>\n",
       "      <td>1</td>\n",
       "      <td>1</td>\n",
       "      <td>0.894737</td>\n",
       "      <td>0.881356</td>\n",
       "      <td>1</td>\n",
       "      <td>1</td>\n",
       "      <td>0.142857</td>\n",
       "      <td>0.666667</td>\n",
       "      <td>0.809524</td>\n",
       "      <td>0.722007</td>\n",
       "    </tr>\n",
       "    <tr>\n",
       "      <th>2</th>\n",
       "      <td>0</td>\n",
       "      <td>0.091041</td>\n",
       "      <td>0</td>\n",
       "      <td>0</td>\n",
       "      <td>0.175439</td>\n",
       "      <td>0.203390</td>\n",
       "      <td>0</td>\n",
       "      <td>4</td>\n",
       "      <td>0.071429</td>\n",
       "      <td>1.000000</td>\n",
       "      <td>0.761905</td>\n",
       "      <td>0.170286</td>\n",
       "    </tr>\n",
       "    <tr>\n",
       "      <th>3</th>\n",
       "      <td>22</td>\n",
       "      <td>0.190168</td>\n",
       "      <td>0</td>\n",
       "      <td>0</td>\n",
       "      <td>0.087719</td>\n",
       "      <td>0.118644</td>\n",
       "      <td>0</td>\n",
       "      <td>4</td>\n",
       "      <td>0.142857</td>\n",
       "      <td>0.666667</td>\n",
       "      <td>0.809524</td>\n",
       "      <td>0.166587</td>\n",
       "    </tr>\n",
       "    <tr>\n",
       "      <th>4</th>\n",
       "      <td>0</td>\n",
       "      <td>0.153622</td>\n",
       "      <td>1</td>\n",
       "      <td>0</td>\n",
       "      <td>1.000000</td>\n",
       "      <td>1.000000</td>\n",
       "      <td>0</td>\n",
       "      <td>4</td>\n",
       "      <td>1.000000</td>\n",
       "      <td>0.480028</td>\n",
       "      <td>0.190476</td>\n",
       "      <td>0.489669</td>\n",
       "    </tr>\n",
       "  </tbody>\n",
       "</table>\n",
       "</div>"
      ],
      "text/plain": [
       "   City_Code  Region_Code  Accomodation_Type  Reco_Insurance_Type  Upper_Age  \\\n",
       "0          0     0.025065                  1                    0   0.210526   \n",
       "1         30     0.000970                  1                    1   0.894737   \n",
       "2          0     0.091041                  0                    0   0.175439   \n",
       "3         22     0.190168                  0                    0   0.087719   \n",
       "4          0     0.153622                  1                    0   1.000000   \n",
       "\n",
       "   Lower_Age  Is_Spouse  Health Indicator  Holding_Policy_Duration  \\\n",
       "0   0.237288          0                 1                 0.357143   \n",
       "1   0.881356          1                 1                 0.142857   \n",
       "2   0.203390          0                 4                 0.071429   \n",
       "3   0.118644          0                 4                 0.142857   \n",
       "4   1.000000          0                 4                 1.000000   \n",
       "\n",
       "   Holding_Policy_Type  Reco_Policy_Cat  Reco_Policy_Premium  \n",
       "0             0.666667         0.190476             0.235009  \n",
       "1             0.666667         0.809524             0.722007  \n",
       "2             1.000000         0.761905             0.170286  \n",
       "3             0.666667         0.809524             0.166587  \n",
       "4             0.480028         0.190476             0.489669  "
      ]
     },
     "execution_count": 135,
     "metadata": {},
     "output_type": "execute_result"
    }
   ],
   "source": [
    "X_test.head()"
   ]
  },
  {
   "cell_type": "code",
   "execution_count": 104,
   "metadata": {},
   "outputs": [],
   "source": [
    "X = train_policy.drop(['ID','Response'],axis=1)"
   ]
  },
  {
   "cell_type": "code",
   "execution_count": 105,
   "metadata": {},
   "outputs": [],
   "source": [
    "y = train_policy['Response']"
   ]
  },
  {
   "cell_type": "code",
   "execution_count": 106,
   "metadata": {},
   "outputs": [],
   "source": [
    "x_train,x_test,y_train,y_test = train_test_split(X,y,test_size=0.4,random_state = 0)"
   ]
  },
  {
   "cell_type": "code",
   "execution_count": 137,
   "metadata": {},
   "outputs": [
    {
     "data": {
      "text/plain": [
       "RandomForestClassifier(criterion='entropy', n_estimators=51)"
      ]
     },
     "execution_count": 137,
     "metadata": {},
     "output_type": "execute_result"
    }
   ],
   "source": [
    "rf = RandomForestClassifier(n_estimators=51,criterion='entropy')\n",
    "rf.fit(x_train,y_train)"
   ]
  },
  {
   "cell_type": "code",
   "execution_count": 138,
   "metadata": {},
   "outputs": [
    {
     "data": {
      "text/plain": [
       "0.999868977038226"
      ]
     },
     "execution_count": 138,
     "metadata": {},
     "output_type": "execute_result"
    }
   ],
   "source": [
    "y_pred_train = rf.predict(x_test)\n",
    "rf.score(x_train,y_train)"
   ]
  },
  {
   "cell_type": "code",
   "execution_count": 139,
   "metadata": {},
   "outputs": [
    {
     "data": {
      "text/plain": [
       "1.0"
      ]
     },
     "execution_count": 139,
     "metadata": {},
     "output_type": "execute_result"
    }
   ],
   "source": [
    "y_pred_test = rf.predict(X_test)\n",
    "rf.score(X_test,y_pred_test)"
   ]
  },
  {
   "cell_type": "code",
   "execution_count": 140,
   "metadata": {
    "scrolled": true
   },
   "outputs": [
    {
     "data": {
      "text/html": [
       "<div>\n",
       "<style scoped>\n",
       "    .dataframe tbody tr th:only-of-type {\n",
       "        vertical-align: middle;\n",
       "    }\n",
       "\n",
       "    .dataframe tbody tr th {\n",
       "        vertical-align: top;\n",
       "    }\n",
       "\n",
       "    .dataframe thead th {\n",
       "        text-align: right;\n",
       "    }\n",
       "</style>\n",
       "<table border=\"1\" class=\"dataframe\">\n",
       "  <thead>\n",
       "    <tr style=\"text-align: right;\">\n",
       "      <th></th>\n",
       "      <th>ID</th>\n",
       "      <th>Response</th>\n",
       "    </tr>\n",
       "  </thead>\n",
       "  <tbody>\n",
       "    <tr>\n",
       "      <th>0</th>\n",
       "      <td>50883</td>\n",
       "      <td>0.0</td>\n",
       "    </tr>\n",
       "    <tr>\n",
       "      <th>1</th>\n",
       "      <td>50884</td>\n",
       "      <td>0.0</td>\n",
       "    </tr>\n",
       "    <tr>\n",
       "      <th>2</th>\n",
       "      <td>50885</td>\n",
       "      <td>0.0</td>\n",
       "    </tr>\n",
       "    <tr>\n",
       "      <th>3</th>\n",
       "      <td>50886</td>\n",
       "      <td>0.0</td>\n",
       "    </tr>\n",
       "    <tr>\n",
       "      <th>4</th>\n",
       "      <td>50887</td>\n",
       "      <td>0.0</td>\n",
       "    </tr>\n",
       "  </tbody>\n",
       "</table>\n",
       "</div>"
      ],
      "text/plain": [
       "      ID  Response\n",
       "0  50883       0.0\n",
       "1  50884       0.0\n",
       "2  50885       0.0\n",
       "3  50886       0.0\n",
       "4  50887       0.0"
      ]
     },
     "execution_count": 140,
     "metadata": {},
     "output_type": "execute_result"
    }
   ],
   "source": [
    "submission01 = pd.DataFrame({'ID':test_policy['ID'],'Response':y_pred_test})\n",
    "submission01.head()"
   ]
  },
  {
   "cell_type": "code",
   "execution_count": 142,
   "metadata": {},
   "outputs": [],
   "source": [
    "submission01.to_csv(\"JOB_A_THON_rf01.csv\", index=False)"
   ]
  },
  {
   "cell_type": "code",
   "execution_count": null,
   "metadata": {},
   "outputs": [],
   "source": []
  }
 ],
 "metadata": {
  "kernelspec": {
   "display_name": "Python 3",
   "language": "python",
   "name": "python3"
  },
  "language_info": {
   "codemirror_mode": {
    "name": "ipython",
    "version": 3
   },
   "file_extension": ".py",
   "mimetype": "text/x-python",
   "name": "python",
   "nbconvert_exporter": "python",
   "pygments_lexer": "ipython3",
   "version": "3.8.3"
  }
 },
 "nbformat": 4,
 "nbformat_minor": 4
}
